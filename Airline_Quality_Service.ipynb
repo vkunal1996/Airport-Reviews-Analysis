{
  "nbformat": 4,
  "nbformat_minor": 0,
  "metadata": {
    "colab": {
      "name": "Airline Quality Service.ipynb",
      "version": "0.3.2",
      "provenance": [],
      "include_colab_link": true
    },
    "kernelspec": {
      "name": "python3",
      "display_name": "Python 3"
    }
  },
  "cells": [
    {
      "cell_type": "markdown",
      "metadata": {
        "id": "view-in-github",
        "colab_type": "text"
      },
      "source": [
        "<a href=\"https://colab.research.google.com/github/vkunal1996/Airport-Reviews-Analysis/blob/master/Airline_Quality_Service.ipynb\" target=\"_parent\"><img src=\"https://colab.research.google.com/assets/colab-badge.svg\" alt=\"Open In Colab\"/></a>"
      ]
    },
    {
      "metadata": {
        "id": "FOXGw608gh-Q",
        "colab_type": "text"
      },
      "cell_type": "markdown",
      "source": [
        "# **Airline Quality Service Analysis**"
      ]
    },
    {
      "metadata": {
        "id": "0hvDpOoCgudn",
        "colab_type": "code",
        "colab": {}
      },
      "cell_type": "code",
      "source": [
        "import pandas as pd\n",
        "import numpy as np\n",
        "import matplotlib.pyplot as plt"
      ],
      "execution_count": 0,
      "outputs": []
    },
    {
      "metadata": {
        "id": "0lej7IwMG-2d",
        "colab_type": "code",
        "outputId": "852f12e0-4075-4ce2-fb31-35c5253e281f",
        "colab": {
          "base_uri": "https://localhost:8080/",
          "height": 323
        }
      },
      "cell_type": "code",
      "source": [
        "!pip install pydrive"
      ],
      "execution_count": 2,
      "outputs": [
        {
          "output_type": "stream",
          "text": [
            "Collecting pydrive\n",
            "\u001b[?25l  Downloading https://files.pythonhosted.org/packages/52/e0/0e64788e5dd58ce2d6934549676243dc69d982f198524be9b99e9c2a4fd5/PyDrive-1.3.1.tar.gz (987kB)\n",
            "\u001b[K    100% |████████████████████████████████| 993kB 1.3MB/s \n",
            "\u001b[?25hRequirement already satisfied: google-api-python-client>=1.2 in /usr/local/lib/python3.6/dist-packages (from pydrive) (1.6.7)\n",
            "Requirement already satisfied: oauth2client>=4.0.0 in /usr/local/lib/python3.6/dist-packages (from pydrive) (4.1.3)\n",
            "Requirement already satisfied: PyYAML>=3.0 in /usr/local/lib/python3.6/dist-packages (from pydrive) (3.13)\n",
            "Requirement already satisfied: httplib2<1dev,>=0.9.2 in /usr/local/lib/python3.6/dist-packages (from google-api-python-client>=1.2->pydrive) (0.11.3)\n",
            "Requirement already satisfied: six<2dev,>=1.6.1 in /usr/local/lib/python3.6/dist-packages (from google-api-python-client>=1.2->pydrive) (1.11.0)\n",
            "Requirement already satisfied: uritemplate<4dev,>=3.0.0 in /usr/local/lib/python3.6/dist-packages (from google-api-python-client>=1.2->pydrive) (3.0.0)\n",
            "Requirement already satisfied: pyasn1-modules>=0.0.5 in /usr/local/lib/python3.6/dist-packages (from oauth2client>=4.0.0->pydrive) (0.2.4)\n",
            "Requirement already satisfied: rsa>=3.1.4 in /usr/local/lib/python3.6/dist-packages (from oauth2client>=4.0.0->pydrive) (4.0)\n",
            "Requirement already satisfied: pyasn1>=0.1.7 in /usr/local/lib/python3.6/dist-packages (from oauth2client>=4.0.0->pydrive) (0.4.5)\n",
            "Building wheels for collected packages: pydrive\n",
            "  Building wheel for pydrive (setup.py) ... \u001b[?25ldone\n",
            "\u001b[?25h  Stored in directory: /root/.cache/pip/wheels/fa/d2/9a/d3b6b506c2da98289e5d417215ce34b696db856643bad779f4\n",
            "Successfully built pydrive\n",
            "Installing collected packages: pydrive\n",
            "Successfully installed pydrive-1.3.1\n"
          ],
          "name": "stdout"
        }
      ]
    },
    {
      "metadata": {
        "id": "ijbpYlgFhp93",
        "colab_type": "code",
        "colab": {}
      },
      "cell_type": "code",
      "source": [
        "from pydrive.auth import GoogleAuth\n",
        "from pydrive.drive import GoogleDrive\n",
        "from google.colab import auth\n",
        "from oauth2client.client import GoogleCredentials\n",
        "# Authenticate and create the PyDrive client.\n",
        "auth.authenticate_user()\n",
        "gauth = GoogleAuth()\n",
        "gauth.credentials = GoogleCredentials.get_application_default()\n",
        "drive = GoogleDrive(gauth)"
      ],
      "execution_count": 0,
      "outputs": []
    },
    {
      "metadata": {
        "id": "1Xk4PDAYkJYN",
        "colab_type": "code",
        "colab": {}
      },
      "cell_type": "code",
      "source": [
        "link='https://drive.google.com/open?id=1tmzZKQKEvxt61TxjHchFfJkpqklVgdzP'\n",
        "fluff,id=link.split('=')\n",
        "downloaded = drive.CreateFile({'id':id}) \n",
        "downloaded.GetContentFile('airline.csv')  \n",
        "airline_data = pd.read_csv('airline.csv')"
      ],
      "execution_count": 0,
      "outputs": []
    },
    {
      "metadata": {
        "id": "TtixSsYZk4NP",
        "colab_type": "code",
        "outputId": "8309b5e8-8b54-423e-a1d3-247a00b76848",
        "colab": {
          "base_uri": "https://localhost:8080/",
          "height": 185
        }
      },
      "cell_type": "code",
      "source": [
        "airline_data.head(1)"
      ],
      "execution_count": 5,
      "outputs": [
        {
          "output_type": "execute_result",
          "data": {
            "text/html": [
              "<div>\n",
              "<style scoped>\n",
              "    .dataframe tbody tr th:only-of-type {\n",
              "        vertical-align: middle;\n",
              "    }\n",
              "\n",
              "    .dataframe tbody tr th {\n",
              "        vertical-align: top;\n",
              "    }\n",
              "\n",
              "    .dataframe thead th {\n",
              "        text-align: right;\n",
              "    }\n",
              "</style>\n",
              "<table border=\"1\" class=\"dataframe\">\n",
              "  <thead>\n",
              "    <tr style=\"text-align: right;\">\n",
              "      <th></th>\n",
              "      <th>airline_name</th>\n",
              "      <th>link</th>\n",
              "      <th>title</th>\n",
              "      <th>author</th>\n",
              "      <th>author_country</th>\n",
              "      <th>date</th>\n",
              "      <th>content</th>\n",
              "      <th>aircraft</th>\n",
              "      <th>type_traveller</th>\n",
              "      <th>cabin_flown</th>\n",
              "      <th>route</th>\n",
              "      <th>overall_rating</th>\n",
              "      <th>seat_comfort_rating</th>\n",
              "      <th>cabin_staff_rating</th>\n",
              "      <th>food_beverages_rating</th>\n",
              "      <th>inflight_entertainment_rating</th>\n",
              "      <th>ground_service_rating</th>\n",
              "      <th>wifi_connectivity_rating</th>\n",
              "      <th>value_money_rating</th>\n",
              "      <th>recommended</th>\n",
              "    </tr>\n",
              "  </thead>\n",
              "  <tbody>\n",
              "    <tr>\n",
              "      <th>0</th>\n",
              "      <td>adria-airways</td>\n",
              "      <td>/airline-reviews/adria-airways</td>\n",
              "      <td>Adria Airways customer review</td>\n",
              "      <td>D Ito</td>\n",
              "      <td>Germany</td>\n",
              "      <td>2015-04-10</td>\n",
              "      <td>Outbound flight FRA/PRN A319. 2 hours 10 min f...</td>\n",
              "      <td>NaN</td>\n",
              "      <td>NaN</td>\n",
              "      <td>Economy</td>\n",
              "      <td>NaN</td>\n",
              "      <td>7.0</td>\n",
              "      <td>4.0</td>\n",
              "      <td>4.0</td>\n",
              "      <td>4.0</td>\n",
              "      <td>0.0</td>\n",
              "      <td>NaN</td>\n",
              "      <td>NaN</td>\n",
              "      <td>4.0</td>\n",
              "      <td>1</td>\n",
              "    </tr>\n",
              "  </tbody>\n",
              "</table>\n",
              "</div>"
            ],
            "text/plain": [
              "    airline_name                            link  \\\n",
              "0  adria-airways  /airline-reviews/adria-airways   \n",
              "\n",
              "                           title author author_country        date  \\\n",
              "0  Adria Airways customer review  D Ito        Germany  2015-04-10   \n",
              "\n",
              "                                             content aircraft type_traveller  \\\n",
              "0  Outbound flight FRA/PRN A319. 2 hours 10 min f...      NaN            NaN   \n",
              "\n",
              "  cabin_flown route  overall_rating  seat_comfort_rating  cabin_staff_rating  \\\n",
              "0     Economy   NaN             7.0                  4.0                 4.0   \n",
              "\n",
              "   food_beverages_rating  inflight_entertainment_rating  \\\n",
              "0                    4.0                            0.0   \n",
              "\n",
              "   ground_service_rating  wifi_connectivity_rating  value_money_rating  \\\n",
              "0                    NaN                       NaN                 4.0   \n",
              "\n",
              "   recommended  \n",
              "0            1  "
            ]
          },
          "metadata": {
            "tags": []
          },
          "execution_count": 5
        }
      ]
    },
    {
      "metadata": {
        "id": "rWNXUTVaxFrJ",
        "colab_type": "text"
      },
      "cell_type": "markdown",
      "source": [
        "# **Analysing the DataSet**"
      ]
    },
    {
      "metadata": {
        "id": "7-4RDqs9n9PH",
        "colab_type": "code",
        "outputId": "0d6b4059-9f90-43b6-9e2e-06a71112aa56",
        "colab": {
          "base_uri": "https://localhost:8080/",
          "height": 374
        }
      },
      "cell_type": "code",
      "source": [
        "round((airline_data.isna().sum())/len(airline_data),2)"
      ],
      "execution_count": 6,
      "outputs": [
        {
          "output_type": "execute_result",
          "data": {
            "text/plain": [
              "airline_name                     0.00\n",
              "link                             0.00\n",
              "title                            0.00\n",
              "author                           0.00\n",
              "author_country                   0.04\n",
              "date                             0.00\n",
              "content                          0.00\n",
              "aircraft                         0.97\n",
              "type_traveller                   0.94\n",
              "cabin_flown                      0.07\n",
              "route                            0.94\n",
              "overall_rating                   0.11\n",
              "seat_comfort_rating              0.19\n",
              "cabin_staff_rating               0.19\n",
              "food_beverages_rating            0.20\n",
              "inflight_entertainment_rating    0.25\n",
              "ground_service_rating            0.95\n",
              "wifi_connectivity_rating         0.99\n",
              "value_money_rating               0.04\n",
              "recommended                      0.00\n",
              "dtype: float64"
            ]
          },
          "metadata": {
            "tags": []
          },
          "execution_count": 6
        }
      ]
    },
    {
      "metadata": {
        "id": "d9JGI01HoLdn",
        "colab_type": "code",
        "colab": {}
      },
      "cell_type": "code",
      "source": [
        "airline_data=airline_data[airline_data['overall_rating'].notnull()]"
      ],
      "execution_count": 0,
      "outputs": []
    },
    {
      "metadata": {
        "id": "ccuVw6MNl-ux",
        "colab_type": "code",
        "outputId": "c989ae77-e461-4d30-8115-7d75589bfcae",
        "colab": {
          "base_uri": "https://localhost:8080/",
          "height": 374
        }
      },
      "cell_type": "code",
      "source": [
        "round((airline_data.isna().sum())/len(airline_data),2)"
      ],
      "execution_count": 8,
      "outputs": [
        {
          "output_type": "execute_result",
          "data": {
            "text/plain": [
              "airline_name                     0.00\n",
              "link                             0.00\n",
              "title                            0.00\n",
              "author                           0.00\n",
              "author_country                   0.02\n",
              "date                             0.00\n",
              "content                          0.00\n",
              "aircraft                         0.97\n",
              "type_traveller                   0.94\n",
              "cabin_flown                      0.05\n",
              "route                            0.94\n",
              "overall_rating                   0.00\n",
              "seat_comfort_rating              0.17\n",
              "cabin_staff_rating               0.17\n",
              "food_beverages_rating            0.18\n",
              "inflight_entertainment_rating    0.23\n",
              "ground_service_rating            0.94\n",
              "wifi_connectivity_rating         0.98\n",
              "value_money_rating               0.03\n",
              "recommended                      0.00\n",
              "dtype: float64"
            ]
          },
          "metadata": {
            "tags": []
          },
          "execution_count": 8
        }
      ]
    },
    {
      "metadata": {
        "id": "IrmWpsrXn5aQ",
        "colab_type": "text"
      },
      "cell_type": "markdown",
      "source": [
        "# **Calcluating Total Reviews to Each airline**"
      ]
    },
    {
      "metadata": {
        "id": "tVZHjIYPmFEg",
        "colab_type": "code",
        "outputId": "66bec4a6-8a0c-4b78-9039-6fe358bd130e",
        "colab": {
          "base_uri": "https://localhost:8080/",
          "height": 51
        }
      },
      "cell_type": "code",
      "source": [
        "\n",
        "airline_names=airline_data.airline_name.unique()\n",
        "print('Total airlines Considered for Analysis : ',len(airline_names))\n",
        "total_reviews_each_airline=[]\n",
        "for i in airline_names:\n",
        "  temp=airline_data[airline_data.airline_name==i]\n",
        "  total_reviews_each_airline.append(len(temp))\n",
        "result=list(zip(airline_names,total_reviews_each_airline))\n",
        "print('Total Reviews Analysed : ',sum(total_reviews_each_airline))"
      ],
      "execution_count": 9,
      "outputs": [
        {
          "output_type": "stream",
          "text": [
            "Total airlines Considered for Analysis :  357\n",
            "Total Reviews Analysed :  36861\n"
          ],
          "name": "stdout"
        }
      ]
    },
    {
      "metadata": {
        "id": "cCDqd6w3n_mc",
        "colab_type": "code",
        "outputId": "dac9ba66-38c9-4561-daf1-dc1c183652bc",
        "colab": {
          "base_uri": "https://localhost:8080/",
          "height": 204
        }
      },
      "cell_type": "code",
      "source": [
        "df=pd.DataFrame(result,columns=['Airline_Name','Total_Reviews'])\n",
        "df=df.sort_values(by='Total_Reviews',ascending=False)\n",
        "df.head()"
      ],
      "execution_count": 10,
      "outputs": [
        {
          "output_type": "execute_result",
          "data": {
            "text/html": [
              "<div>\n",
              "<style scoped>\n",
              "    .dataframe tbody tr th:only-of-type {\n",
              "        vertical-align: middle;\n",
              "    }\n",
              "\n",
              "    .dataframe tbody tr th {\n",
              "        vertical-align: top;\n",
              "    }\n",
              "\n",
              "    .dataframe thead th {\n",
              "        text-align: right;\n",
              "    }\n",
              "</style>\n",
              "<table border=\"1\" class=\"dataframe\">\n",
              "  <thead>\n",
              "    <tr style=\"text-align: right;\">\n",
              "      <th></th>\n",
              "      <th>Airline_Name</th>\n",
              "      <th>Total_Reviews</th>\n",
              "    </tr>\n",
              "  </thead>\n",
              "  <tbody>\n",
              "    <tr>\n",
              "      <th>295</th>\n",
              "      <td>spirit-airlines</td>\n",
              "      <td>966</td>\n",
              "    </tr>\n",
              "    <tr>\n",
              "      <th>97</th>\n",
              "      <td>british-airways</td>\n",
              "      <td>896</td>\n",
              "    </tr>\n",
              "    <tr>\n",
              "      <th>333</th>\n",
              "      <td>united-airlines</td>\n",
              "      <td>839</td>\n",
              "    </tr>\n",
              "    <tr>\n",
              "      <th>20</th>\n",
              "      <td>air-canada-rouge</td>\n",
              "      <td>715</td>\n",
              "    </tr>\n",
              "    <tr>\n",
              "      <th>138</th>\n",
              "      <td>emirates</td>\n",
              "      <td>690</td>\n",
              "    </tr>\n",
              "  </tbody>\n",
              "</table>\n",
              "</div>"
            ],
            "text/plain": [
              "         Airline_Name  Total_Reviews\n",
              "295   spirit-airlines            966\n",
              "97    british-airways            896\n",
              "333   united-airlines            839\n",
              "20   air-canada-rouge            715\n",
              "138          emirates            690"
            ]
          },
          "metadata": {
            "tags": []
          },
          "execution_count": 10
        }
      ]
    },
    {
      "metadata": {
        "id": "PR4Pxod7QIwk",
        "colab_type": "code",
        "colab": {}
      },
      "cell_type": "code",
      "source": [
        ""
      ],
      "execution_count": 0,
      "outputs": []
    },
    {
      "metadata": {
        "id": "486Z7T_QpMTi",
        "colab_type": "code",
        "outputId": "bdab7f90-d6b6-4410-c57c-675e722427d8",
        "colab": {
          "base_uri": "https://localhost:8080/",
          "height": 378
        }
      },
      "cell_type": "code",
      "source": [
        "plt.style.use('seaborn')\n",
        "plt.xlabel('Airlines')\n",
        "plt.ylabel('Reviews')\n",
        "plt.bar(df.Airline_Name[:5],df.Total_Reviews[:5],label='Top 5 Airlines')\n",
        "plt.legend()\n"
      ],
      "execution_count": 11,
      "outputs": [
        {
          "output_type": "execute_result",
          "data": {
            "text/plain": [
              "<matplotlib.legend.Legend at 0x7fa071acba90>"
            ]
          },
          "metadata": {
            "tags": []
          },
          "execution_count": 11
        },
        {
          "output_type": "display_data",
          "data": {
            "image/png": "[encoded data removed]",
            "text/plain": [
              "<Figure size 576x396 with 1 Axes>"
            ]
          },
          "metadata": {
            "tags": []
          }
        }
      ]
    },
    {
      "metadata": {
        "id": "NyT2jwkUrHIN",
        "colab_type": "text"
      },
      "cell_type": "markdown",
      "source": [
        "# **Finding Polarity of Each Review**"
      ]
    },
    {
      "metadata": {
        "id": "GPn-vQVOrGU6",
        "colab_type": "code",
        "colab": {}
      },
      "cell_type": "code",
      "source": [
        "from textblob import TextBlob"
      ],
      "execution_count": 0,
      "outputs": []
    },
    {
      "metadata": {
        "id": "T6s6fwPZnxIn",
        "colab_type": "code",
        "colab": {}
      },
      "cell_type": "code",
      "source": [
        "result1=[]\n",
        "num=1\n",
        "numlist=[]\n",
        "for review in airline_data.content:\n",
        "    analysis=TextBlob(review)\n",
        "    result1.append(analysis.polarity)\n",
        "    numlist.append(num)\n",
        "    num=num+1\n",
        "result1=np.array(result1)\n"
      ],
      "execution_count": 0,
      "outputs": []
    },
    {
      "metadata": {
        "id": "uMzY1z-crnVX",
        "colab_type": "text"
      },
      "cell_type": "markdown",
      "source": [
        "### **Plotting Polarity**"
      ]
    },
    {
      "metadata": {
        "id": "XgL31hv7rrFC",
        "colab_type": "code",
        "outputId": "bb75baf7-811d-4085-9e7c-bb24df13863b",
        "colab": {
          "base_uri": "https://localhost:8080/",
          "height": 378
        }
      },
      "cell_type": "code",
      "source": [
        "plt.style.use('seaborn')\n",
        "plt.scatter(numlist,result1,label='Polarity')\n",
        "plt.xlabel('Reviews')\n",
        "plt.ylabel('Polarity')\n",
        "plt.legend()"
      ],
      "execution_count": 14,
      "outputs": [
        {
          "output_type": "execute_result",
          "data": {
            "text/plain": [
              "<matplotlib.legend.Legend at 0x7fa067d58470>"
            ]
          },
          "metadata": {
            "tags": []
          },
          "execution_count": 14
        },
        {
          "output_type": "display_data",
          "data": {
            "image/png": "[encoded data removed]",
            "text/plain": [
              "<Figure size 576x396 with 1 Axes>"
            ]
          },
          "metadata": {
            "tags": []
          }
        }
      ]
    },
    {
      "metadata": {
        "id": "paXcx0dPrxpQ",
        "colab_type": "text"
      },
      "cell_type": "markdown",
      "source": [
        "# **Providing Sentiment Value to Each Review According to Rating**"
      ]
    },
    {
      "metadata": {
        "id": "XiUQPa3AoVlj",
        "colab_type": "code",
        "colab": {}
      },
      "cell_type": "code",
      "source": [
        "sentiment=[]\n",
        "for i in airline_data.overall_rating:\n",
        "  if(i<=5 and i>=0):\n",
        "    sentiment.append(0)\n",
        "  else:\n",
        "    sentiment.append(1)"
      ],
      "execution_count": 0,
      "outputs": []
    },
    {
      "metadata": {
        "id": "oY8KTbVoYfAP",
        "colab_type": "code",
        "colab": {}
      },
      "cell_type": "code",
      "source": [
        "new_airline_data=airline_data.copy()"
      ],
      "execution_count": 0,
      "outputs": []
    },
    {
      "metadata": {
        "id": "uPvrZYXtYtXZ",
        "colab_type": "code",
        "colab": {}
      },
      "cell_type": "code",
      "source": [
        "new_airline_data['sentiment']=sentiment"
      ],
      "execution_count": 0,
      "outputs": []
    },
    {
      "metadata": {
        "id": "jhVnemSSZFgJ",
        "colab_type": "code",
        "colab": {}
      },
      "cell_type": "code",
      "source": [
        "### Shuffline the Dataset for Training ###\n",
        "\n",
        "from sklearn.utils import shuffle\n",
        "new_airline_data=shuffle(new_airline_data)"
      ],
      "execution_count": 0,
      "outputs": []
    },
    {
      "metadata": {
        "id": "sW_OEGPxoyQA",
        "colab_type": "text"
      },
      "cell_type": "markdown",
      "source": [
        "# **Logisitc Regression**"
      ]
    },
    {
      "metadata": {
        "id": "Emyr7gWIo2XM",
        "colab_type": "code",
        "colab": {}
      },
      "cell_type": "code",
      "source": [
        "from sklearn.linear_model import LogisticRegression\n",
        "from sklearn.feature_extraction.text import CountVectorizer"
      ],
      "execution_count": 0,
      "outputs": []
    },
    {
      "metadata": {
        "id": "JlrhTdHjo9Nw",
        "colab_type": "code",
        "colab": {}
      },
      "cell_type": "code",
      "source": [
        "model=LogisticRegression()\n",
        "vectorizer=CountVectorizer(ngram_range=(1,2))\n",
        "x_l=vectorizer.fit_transform(new_airline_data.content.values)"
      ],
      "execution_count": 0,
      "outputs": []
    },
    {
      "metadata": {
        "id": "CdpFCgWgpAJl",
        "colab_type": "code",
        "outputId": "091bf4a9-120d-4caf-f855-1af5b82e5ad6",
        "colab": {
          "base_uri": "https://localhost:8080/",
          "height": 139
        }
      },
      "cell_type": "code",
      "source": [
        "model.fit(x_l[:29488],new_airline_data.sentiment[:29488].values)"
      ],
      "execution_count": 21,
      "outputs": [
        {
          "output_type": "stream",
          "text": [
            "/usr/local/lib/python3.6/dist-packages/sklearn/linear_model/logistic.py:433: FutureWarning: Default solver will be changed to 'lbfgs' in 0.22. Specify a solver to silence this warning.\n",
            "  FutureWarning)\n"
          ],
          "name": "stderr"
        },
        {
          "output_type": "execute_result",
          "data": {
            "text/plain": [
              "LogisticRegression(C=1.0, class_weight=None, dual=False, fit_intercept=True,\n",
              "          intercept_scaling=1, max_iter=100, multi_class='warn',\n",
              "          n_jobs=None, penalty='l2', random_state=None, solver='warn',\n",
              "          tol=0.0001, verbose=0, warm_start=False)"
            ]
          },
          "metadata": {
            "tags": []
          },
          "execution_count": 21
        }
      ]
    },
    {
      "metadata": {
        "id": "DQpRwrSVpUhv",
        "colab_type": "code",
        "outputId": "70fe42d1-cc14-4bf4-cba0-44e6c7adac9b",
        "colab": {
          "base_uri": "https://localhost:8080/",
          "height": 34
        }
      },
      "cell_type": "code",
      "source": [
        "model.score(x_l[29488:],new_airline_data.sentiment[29488:].values)"
      ],
      "execution_count": 22,
      "outputs": [
        {
          "output_type": "execute_result",
          "data": {
            "text/plain": [
              "0.8871558388715584"
            ]
          },
          "metadata": {
            "tags": []
          },
          "execution_count": 22
        }
      ]
    },
    {
      "metadata": {
        "id": "kC4MkAs5IaeV",
        "colab_type": "code",
        "colab": {}
      },
      "cell_type": "code",
      "source": [
        "y_predict=model.predict(x_l[29488:])"
      ],
      "execution_count": 0,
      "outputs": []
    },
    {
      "metadata": {
        "id": "19y3NJYpIi_n",
        "colab_type": "code",
        "colab": {}
      },
      "cell_type": "code",
      "source": [
        "x_axis=[]\n",
        "n=1\n",
        "for i in range(0,len(new_airline_data[29488:].values)):\n",
        "  x_axis.append(n)\n",
        "  n=n+1"
      ],
      "execution_count": 0,
      "outputs": []
    },
    {
      "metadata": {
        "id": "avVw5fWLJpKd",
        "colab_type": "code",
        "colab": {}
      },
      "cell_type": "code",
      "source": [
        ""
      ],
      "execution_count": 0,
      "outputs": []
    },
    {
      "metadata": {
        "id": "BcGq1xQKJign",
        "colab_type": "code",
        "outputId": "72c1a31c-438a-4e5e-ed43-b93ead9213c6",
        "colab": {
          "base_uri": "https://localhost:8080/",
          "height": 364
        }
      },
      "cell_type": "code",
      "source": [
        "plt.scatter(x_axis,new_airline_data.sentiment[29488:],color='red',label='predicted')\n",
        "plt.scatter(x_axis,y_predict,label='actual')\n",
        "plt.legend()\n"
      ],
      "execution_count": 27,
      "outputs": [
        {
          "output_type": "execute_result",
          "data": {
            "text/plain": [
              "<matplotlib.legend.Legend at 0x7fa06304e208>"
            ]
          },
          "metadata": {
            "tags": []
          },
          "execution_count": 27
        },
        {
          "output_type": "display_data",
          "data": {
            "image/png": "[encoded data removed]",
            "text/plain": [
              "<Figure size 576x396 with 1 Axes>"
            ]
          },
          "metadata": {
            "tags": []
          }
        }
      ]
    },
    {
      "metadata": {
        "id": "50jXWs7HHsCq",
        "colab_type": "text"
      },
      "cell_type": "markdown",
      "source": [
        "# **Linear Support Vector Machine**"
      ]
    },
    {
      "metadata": {
        "id": "_V029Ywolo0C",
        "colab_type": "code",
        "colab": {}
      },
      "cell_type": "code",
      "source": [
        "from sklearn.svm import LinearSVC"
      ],
      "execution_count": 0,
      "outputs": []
    },
    {
      "metadata": {
        "id": "-XSb4DqKH501",
        "colab_type": "code",
        "colab": {}
      },
      "cell_type": "code",
      "source": [
        "clf = LinearSVC(random_state=42, tol=1e-5)"
      ],
      "execution_count": 0,
      "outputs": []
    },
    {
      "metadata": {
        "id": "OgeaaG4KH---",
        "colab_type": "code",
        "outputId": "e1a2490b-9df4-4865-a1e2-d8fdbe4d6f5d",
        "colab": {
          "base_uri": "https://localhost:8080/",
          "height": 119
        }
      },
      "cell_type": "code",
      "source": [
        "clf.fit(x_l[:29488],new_airline_data.sentiment[:29488])"
      ],
      "execution_count": 30,
      "outputs": [
        {
          "output_type": "stream",
          "text": [
            "/usr/local/lib/python3.6/dist-packages/sklearn/svm/base.py:931: ConvergenceWarning: Liblinear failed to converge, increase the number of iterations.\n",
            "  \"the number of iterations.\", ConvergenceWarning)\n"
          ],
          "name": "stderr"
        },
        {
          "output_type": "execute_result",
          "data": {
            "text/plain": [
              "LinearSVC(C=1.0, class_weight=None, dual=True, fit_intercept=True,\n",
              "     intercept_scaling=1, loss='squared_hinge', max_iter=1000,\n",
              "     multi_class='ovr', penalty='l2', random_state=42, tol=1e-05,\n",
              "     verbose=0)"
            ]
          },
          "metadata": {
            "tags": []
          },
          "execution_count": 30
        }
      ]
    },
    {
      "metadata": {
        "id": "U-ITN9ksIP4l",
        "colab_type": "code",
        "outputId": "a82219e7-3f3a-453e-b7f9-4aaf7d6bfb65",
        "colab": {
          "base_uri": "https://localhost:8080/",
          "height": 34
        }
      },
      "cell_type": "code",
      "source": [
        "clf.score(x_l[29488:],new_airline_data.sentiment[29488:])"
      ],
      "execution_count": 31,
      "outputs": [
        {
          "output_type": "execute_result",
          "data": {
            "text/plain": [
              "0.8795605587956056"
            ]
          },
          "metadata": {
            "tags": []
          },
          "execution_count": 31
        }
      ]
    },
    {
      "metadata": {
        "id": "bc4xhR5yK2d5",
        "colab_type": "code",
        "outputId": "605f014f-27b4-49d2-a443-b4fd99be895a",
        "colab": {
          "base_uri": "https://localhost:8080/",
          "height": 364
        }
      },
      "cell_type": "code",
      "source": [
        "plt.scatter(x_axis,new_airline_data.sentiment[29488:],color='red',label='predicted')\n",
        "plt.scatter(x_axis,y_predict,label='actual')\n",
        "plt.legend()\n"
      ],
      "execution_count": 32,
      "outputs": [
        {
          "output_type": "execute_result",
          "data": {
            "text/plain": [
              "<matplotlib.legend.Legend at 0x7fa067d52f60>"
            ]
          },
          "metadata": {
            "tags": []
          },
          "execution_count": 32
        },
        {
          "output_type": "display_data",
          "data": {
            "image/png": "[encoded data removed]",
            "text/plain": [
              "<Figure size 576x396 with 1 Axes>"
            ]
          },
          "metadata": {
            "tags": []
          }
        }
      ]
    },
    {
      "metadata": {
        "id": "4mfLbnlgQkIg",
        "colab_type": "text"
      },
      "cell_type": "markdown",
      "source": [
        "# **Preprocessing the Reviews **"
      ]
    },
    {
      "metadata": {
        "id": "4jgaB84lQpGw",
        "colab_type": "code",
        "colab": {}
      },
      "cell_type": "code",
      "source": [
        "t=new_airline_data.copy()"
      ],
      "execution_count": 0,
      "outputs": []
    },
    {
      "metadata": {
        "id": "dLsB_JVIRoQ8",
        "colab_type": "code",
        "colab": {}
      },
      "cell_type": "code",
      "source": [
        "pos_sentiment=[]\n",
        "neg_sentiment=[]\n",
        "avg_rating=[]\n",
        "for i in airline_names:\n",
        "  tempdf=t[t['airline_name']==i]\n",
        "  pos=len(tempdf[tempdf['sentiment']==1])\n",
        "  neg=len(tempdf)-pos\n",
        "  pos_sentiment.append(pos)\n",
        "  neg_sentiment.append(neg)\n",
        "  avg_rate=tempdf.overall_rating.mean()\n",
        "  avg_rating.append(avg_rate)\n",
        "clustered_data=pd.DataFrame(list(zip(airline_names,avg_rating,pos_sentiment,neg_sentiment)),columns=['airline_name','average_rating','pos_sentiment','neg_sentiment'])"
      ],
      "execution_count": 0,
      "outputs": []
    },
    {
      "metadata": {
        "id": "0FXCr0X2UqBp",
        "colab_type": "code",
        "colab": {}
      },
      "cell_type": "code",
      "source": [
        "clustered_data=clustered_data.sort_values(by=['pos_sentiment','average_rating'],kind='mergesort',ascending=False)"
      ],
      "execution_count": 0,
      "outputs": []
    },
    {
      "metadata": {
        "id": "4x-bZA1cWBD0",
        "colab_type": "code",
        "outputId": "df18fa02-6e3c-427f-9d09-401a85fb0e30",
        "colab": {
          "base_uri": "https://localhost:8080/",
          "height": 204
        }
      },
      "cell_type": "code",
      "source": [
        "clustered_data.head()"
      ],
      "execution_count": 36,
      "outputs": [
        {
          "output_type": "execute_result",
          "data": {
            "text/html": [
              "<div>\n",
              "<style scoped>\n",
              "    .dataframe tbody tr th:only-of-type {\n",
              "        vertical-align: middle;\n",
              "    }\n",
              "\n",
              "    .dataframe tbody tr th {\n",
              "        vertical-align: top;\n",
              "    }\n",
              "\n",
              "    .dataframe thead th {\n",
              "        text-align: right;\n",
              "    }\n",
              "</style>\n",
              "<table border=\"1\" class=\"dataframe\">\n",
              "  <thead>\n",
              "    <tr style=\"text-align: right;\">\n",
              "      <th></th>\n",
              "      <th>airline_name</th>\n",
              "      <th>average_rating</th>\n",
              "      <th>pos_sentiment</th>\n",
              "      <th>neg_sentiment</th>\n",
              "    </tr>\n",
              "  </thead>\n",
              "  <tbody>\n",
              "    <tr>\n",
              "      <th>97</th>\n",
              "      <td>british-airways</td>\n",
              "      <td>5.881696</td>\n",
              "      <td>511</td>\n",
              "      <td>385</td>\n",
              "    </tr>\n",
              "    <tr>\n",
              "      <th>215</th>\n",
              "      <td>lufthansa</td>\n",
              "      <td>6.993333</td>\n",
              "      <td>457</td>\n",
              "      <td>143</td>\n",
              "    </tr>\n",
              "    <tr>\n",
              "      <th>255</th>\n",
              "      <td>qantas-airways</td>\n",
              "      <td>7.005172</td>\n",
              "      <td>421</td>\n",
              "      <td>159</td>\n",
              "    </tr>\n",
              "    <tr>\n",
              "      <th>138</th>\n",
              "      <td>emirates</td>\n",
              "      <td>6.246377</td>\n",
              "      <td>418</td>\n",
              "      <td>272</td>\n",
              "    </tr>\n",
              "    <tr>\n",
              "      <th>257</th>\n",
              "      <td>qatar-airways</td>\n",
              "      <td>7.319106</td>\n",
              "      <td>377</td>\n",
              "      <td>115</td>\n",
              "    </tr>\n",
              "  </tbody>\n",
              "</table>\n",
              "</div>"
            ],
            "text/plain": [
              "        airline_name  average_rating  pos_sentiment  neg_sentiment\n",
              "97   british-airways        5.881696            511            385\n",
              "215        lufthansa        6.993333            457            143\n",
              "255   qantas-airways        7.005172            421            159\n",
              "138         emirates        6.246377            418            272\n",
              "257    qatar-airways        7.319106            377            115"
            ]
          },
          "metadata": {
            "tags": []
          },
          "execution_count": 36
        }
      ]
    },
    {
      "metadata": {
        "id": "5VCmW4hZWIeU",
        "colab_type": "code",
        "outputId": "8d5173cb-ef55-4aa7-e26f-a29e2407f789",
        "colab": {
          "base_uri": "https://localhost:8080/",
          "height": 364
        }
      },
      "cell_type": "code",
      "source": [
        "plt.bar(clustered_data.airline_name.head(5).values,clustered_data.pos_sentiment.head(5).values,label='Positive Sentiment')\n",
        "plt.bar(clustered_data.airline_name.head(5).values,clustered_data.neg_sentiment.head(5).values,label='Negative Sentiment',color='red')\n",
        "plt.legend()"
      ],
      "execution_count": 37,
      "outputs": [
        {
          "output_type": "execute_result",
          "data": {
            "text/plain": [
              "<matplotlib.legend.Legend at 0x7fa0659757b8>"
            ]
          },
          "metadata": {
            "tags": []
          },
          "execution_count": 37
        },
        {
          "output_type": "display_data",
          "data": {
            "image/png": "[encoded data removed]",
            "text/plain": [
              "<Figure size 576x396 with 1 Axes>"
            ]
          },
          "metadata": {
            "tags": []
          }
        }
      ]
    },
    {
      "metadata": {
        "id": "lzpCq6CJijfS",
        "colab_type": "code",
        "colab": {}
      },
      "cell_type": "code",
      "source": [
        ""
      ],
      "execution_count": 0,
      "outputs": []
    },
    {
      "metadata": {
        "id": "v2CkQIFPikXH",
        "colab_type": "text"
      },
      "cell_type": "markdown",
      "source": [
        "# **Preprocessing Reviews and Removing Stop Words**\n"
      ]
    },
    {
      "metadata": {
        "id": "m8vN2Oz3jdv8",
        "colab_type": "code",
        "colab": {}
      },
      "cell_type": "code",
      "source": [
        "import nltk\n",
        "from nltk.corpus import stopwords\n",
        "from nltk.tokenize import sent_tokenize\n",
        "from nltk.stem import WordNetLemmatizer\n",
        "import string\n",
        "from nltk.tokenize import word_tokenize"
      ],
      "execution_count": 0,
      "outputs": []
    },
    {
      "metadata": {
        "id": "RLmJas4Cosa2",
        "colab_type": "code",
        "colab": {
          "base_uri": "https://localhost:8080/",
          "height": 68
        },
        "outputId": "22370cd2-70d1-4f75-d1fa-9825ee59e034"
      },
      "cell_type": "code",
      "source": [
        "nltk.download('stopwords')"
      ],
      "execution_count": 40,
      "outputs": [
        {
          "output_type": "stream",
          "text": [
            "[nltk_data] Downloading package stopwords to /root/nltk_data...\n",
            "[nltk_data]   Unzipping corpora/stopwords.zip.\n"
          ],
          "name": "stdout"
        },
        {
          "output_type": "execute_result",
          "data": {
            "text/plain": [
              "True"
            ]
          },
          "metadata": {
            "tags": []
          },
          "execution_count": 40
        }
      ]
    },
    {
      "metadata": {
        "id": "VKFYMEYAo1wF",
        "colab_type": "code",
        "colab": {
          "base_uri": "https://localhost:8080/",
          "height": 102
        },
        "outputId": "26070d78-6fdc-4762-fae2-2f7a8578dfca"
      },
      "cell_type": "code",
      "source": [
        "nltk.download('punkt')\n",
        "nltk.download('wordnet')"
      ],
      "execution_count": 46,
      "outputs": [
        {
          "output_type": "stream",
          "text": [
            "[nltk_data] Downloading package punkt to /root/nltk_data...\n",
            "[nltk_data]   Package punkt is already up-to-date!\n",
            "[nltk_data] Downloading package wordnet to /root/nltk_data...\n",
            "[nltk_data]   Unzipping corpora/wordnet.zip.\n"
          ],
          "name": "stdout"
        },
        {
          "output_type": "execute_result",
          "data": {
            "text/plain": [
              "True"
            ]
          },
          "metadata": {
            "tags": []
          },
          "execution_count": 46
        }
      ]
    },
    {
      "metadata": {
        "id": "9BaY0ZrMjiIN",
        "colab_type": "code",
        "colab": {}
      },
      "cell_type": "code",
      "source": [
        "stop = set(stopwords.words(\"english\"))"
      ],
      "execution_count": 0,
      "outputs": []
    },
    {
      "metadata": {
        "id": "vQSDMxa1irCB",
        "colab_type": "code",
        "colab": {}
      },
      "cell_type": "code",
      "source": [
        "def preprocessing(text):\n",
        "  le = WordNetLemmatizer()\n",
        "  words = word_tokenize(text)\n",
        "  words = [x for x in words if not x in stop]\n",
        "  words = [le.lemmatize(x) for x in words]\n",
        "  return \" \".join(words)"
      ],
      "execution_count": 0,
      "outputs": []
    },
    {
      "metadata": {
        "id": "hbZZSe0Bj-js",
        "colab_type": "code",
        "colab": {}
      },
      "cell_type": "code",
      "source": [
        "reviews2 = [preprocessing(x) for x in new_airline_data.content]"
      ],
      "execution_count": 0,
      "outputs": []
    },
    {
      "metadata": {
        "id": "KoeCiIPkkc2X",
        "colab_type": "code",
        "colab": {}
      },
      "cell_type": "code",
      "source": [
        "new_airline_data['reviews_processed']=reviews2"
      ],
      "execution_count": 0,
      "outputs": []
    },
    {
      "metadata": {
        "id": "NNQGD-IZlKfw",
        "colab_type": "code",
        "colab": {}
      },
      "cell_type": "code",
      "source": [
        ""
      ],
      "execution_count": 0,
      "outputs": []
    },
    {
      "metadata": {
        "id": "exZACuNzkoNY",
        "colab_type": "text"
      },
      "cell_type": "markdown",
      "source": [
        "### **Logisitic Regression on Processed Data**"
      ]
    },
    {
      "metadata": {
        "id": "0hO76ighktak",
        "colab_type": "code",
        "colab": {}
      },
      "cell_type": "code",
      "source": [
        "logic_model=LogisticRegression()\n",
        "vectorizer_p=CountVectorizer(ngram_range=(1,2))\n",
        "x_l_1=vectorizer_p.fit_transform(new_airline_data.reviews_processed.values)"
      ],
      "execution_count": 0,
      "outputs": []
    },
    {
      "metadata": {
        "id": "QiG_o3SBo1Ls",
        "colab_type": "code",
        "outputId": "7db1a43f-4283-4c60-da42-ffbd9fb6cffe",
        "colab": {
          "base_uri": "https://localhost:8080/",
          "height": 139
        }
      },
      "cell_type": "code",
      "source": [
        "logic_model.fit(x_l_1[:29488],new_airline_data.sentiment[:29488].values)"
      ],
      "execution_count": 50,
      "outputs": [
        {
          "output_type": "stream",
          "text": [
            "/usr/local/lib/python3.6/dist-packages/sklearn/linear_model/logistic.py:433: FutureWarning: Default solver will be changed to 'lbfgs' in 0.22. Specify a solver to silence this warning.\n",
            "  FutureWarning)\n"
          ],
          "name": "stderr"
        },
        {
          "output_type": "execute_result",
          "data": {
            "text/plain": [
              "LogisticRegression(C=1.0, class_weight=None, dual=False, fit_intercept=True,\n",
              "          intercept_scaling=1, max_iter=100, multi_class='warn',\n",
              "          n_jobs=None, penalty='l2', random_state=None, solver='warn',\n",
              "          tol=0.0001, verbose=0, warm_start=False)"
            ]
          },
          "metadata": {
            "tags": []
          },
          "execution_count": 50
        }
      ]
    },
    {
      "metadata": {
        "id": "9HfqtPhgo-VW",
        "colab_type": "code",
        "outputId": "c0d7118f-cf64-4651-91aa-86326d0b26fb",
        "colab": {
          "base_uri": "https://localhost:8080/",
          "height": 34
        }
      },
      "cell_type": "code",
      "source": [
        "logic_model.score(x_l_1[29488:],new_airline_data.sentiment[29488:].values)"
      ],
      "execution_count": 52,
      "outputs": [
        {
          "output_type": "execute_result",
          "data": {
            "text/plain": [
              "0.8839007188390072"
            ]
          },
          "metadata": {
            "tags": []
          },
          "execution_count": 52
        }
      ]
    },
    {
      "metadata": {
        "id": "-3oq7TAFpHY1",
        "colab_type": "text"
      },
      "cell_type": "markdown",
      "source": [
        "### **Implementing Linear SVM**"
      ]
    },
    {
      "metadata": {
        "id": "qyoMfJBepLrb",
        "colab_type": "code",
        "colab": {}
      },
      "cell_type": "code",
      "source": [
        "clf1 = LinearSVC(random_state=42, tol=1e-5)"
      ],
      "execution_count": 0,
      "outputs": []
    },
    {
      "metadata": {
        "id": "ekVMoqewpV3M",
        "colab_type": "code",
        "outputId": "56cd45ee-a851-400f-c994-caf355be12fc",
        "colab": {
          "base_uri": "https://localhost:8080/",
          "height": 119
        }
      },
      "cell_type": "code",
      "source": [
        "clf1.fit(x_l_1[:29488],new_airline_data.sentiment[:29488])"
      ],
      "execution_count": 54,
      "outputs": [
        {
          "output_type": "stream",
          "text": [
            "/usr/local/lib/python3.6/dist-packages/sklearn/svm/base.py:931: ConvergenceWarning: Liblinear failed to converge, increase the number of iterations.\n",
            "  \"the number of iterations.\", ConvergenceWarning)\n"
          ],
          "name": "stderr"
        },
        {
          "output_type": "execute_result",
          "data": {
            "text/plain": [
              "LinearSVC(C=1.0, class_weight=None, dual=True, fit_intercept=True,\n",
              "     intercept_scaling=1, loss='squared_hinge', max_iter=1000,\n",
              "     multi_class='ovr', penalty='l2', random_state=42, tol=1e-05,\n",
              "     verbose=0)"
            ]
          },
          "metadata": {
            "tags": []
          },
          "execution_count": 54
        }
      ]
    },
    {
      "metadata": {
        "id": "r6sEwRNUpYTb",
        "colab_type": "code",
        "outputId": "9ede7a15-e589-4887-8253-4f75851f315a",
        "colab": {
          "base_uri": "https://localhost:8080/",
          "height": 34
        }
      },
      "cell_type": "code",
      "source": [
        "clf1.score(x_l_1[29488:],new_airline_data.sentiment[29488:])"
      ],
      "execution_count": 55,
      "outputs": [
        {
          "output_type": "execute_result",
          "data": {
            "text/plain": [
              "0.8753560287535603"
            ]
          },
          "metadata": {
            "tags": []
          },
          "execution_count": 55
        }
      ]
    },
    {
      "metadata": {
        "id": "iucgAG0apokI",
        "colab_type": "text"
      },
      "cell_type": "markdown",
      "source": [
        "# **Working With Neural Networks**"
      ]
    },
    {
      "metadata": {
        "id": "SBaGPNOfpzBK",
        "colab_type": "code",
        "colab": {
          "base_uri": "https://localhost:8080/",
          "height": 231
        },
        "outputId": "90b67a89-507b-4f9e-cca7-5189394a826b"
      },
      "cell_type": "code",
      "source": [
        "new_airline_data.head(1)"
      ],
      "execution_count": 58,
      "outputs": [
        {
          "output_type": "execute_result",
          "data": {
            "text/html": [
              "<div>\n",
              "<style scoped>\n",
              "    .dataframe tbody tr th:only-of-type {\n",
              "        vertical-align: middle;\n",
              "    }\n",
              "\n",
              "    .dataframe tbody tr th {\n",
              "        vertical-align: top;\n",
              "    }\n",
              "\n",
              "    .dataframe thead th {\n",
              "        text-align: right;\n",
              "    }\n",
              "</style>\n",
              "<table border=\"1\" class=\"dataframe\">\n",
              "  <thead>\n",
              "    <tr style=\"text-align: right;\">\n",
              "      <th></th>\n",
              "      <th>airline_name</th>\n",
              "      <th>link</th>\n",
              "      <th>title</th>\n",
              "      <th>author</th>\n",
              "      <th>author_country</th>\n",
              "      <th>date</th>\n",
              "      <th>content</th>\n",
              "      <th>aircraft</th>\n",
              "      <th>type_traveller</th>\n",
              "      <th>cabin_flown</th>\n",
              "      <th>...</th>\n",
              "      <th>seat_comfort_rating</th>\n",
              "      <th>cabin_staff_rating</th>\n",
              "      <th>food_beverages_rating</th>\n",
              "      <th>inflight_entertainment_rating</th>\n",
              "      <th>ground_service_rating</th>\n",
              "      <th>wifi_connectivity_rating</th>\n",
              "      <th>value_money_rating</th>\n",
              "      <th>recommended</th>\n",
              "      <th>sentiment</th>\n",
              "      <th>reviews_processed</th>\n",
              "    </tr>\n",
              "  </thead>\n",
              "  <tbody>\n",
              "    <tr>\n",
              "      <th>31578</th>\n",
              "      <td>singapore-airlines</td>\n",
              "      <td>/airline-reviews/singapore-airlines</td>\n",
              "      <td>Singapore Airlines customer review</td>\n",
              "      <td>A Turner</td>\n",
              "      <td>Australia</td>\n",
              "      <td>2014-01-09</td>\n",
              "      <td>Flew economy from Frankfurt to Singapore. Food...</td>\n",
              "      <td>NaN</td>\n",
              "      <td>NaN</td>\n",
              "      <td>Economy</td>\n",
              "      <td>...</td>\n",
              "      <td>4.0</td>\n",
              "      <td>5.0</td>\n",
              "      <td>4.0</td>\n",
              "      <td>4.0</td>\n",
              "      <td>NaN</td>\n",
              "      <td>NaN</td>\n",
              "      <td>5.0</td>\n",
              "      <td>1</td>\n",
              "      <td>1</td>\n",
              "      <td>Flew economy Frankfurt Singapore . Food decent...</td>\n",
              "    </tr>\n",
              "  </tbody>\n",
              "</table>\n",
              "<p>1 rows × 22 columns</p>\n",
              "</div>"
            ],
            "text/plain": [
              "             airline_name                                 link  \\\n",
              "31578  singapore-airlines  /airline-reviews/singapore-airlines   \n",
              "\n",
              "                                    title    author author_country  \\\n",
              "31578  Singapore Airlines customer review  A Turner      Australia   \n",
              "\n",
              "             date                                            content aircraft  \\\n",
              "31578  2014-01-09  Flew economy from Frankfurt to Singapore. Food...      NaN   \n",
              "\n",
              "      type_traveller cabin_flown  \\\n",
              "31578            NaN     Economy   \n",
              "\n",
              "                             ...                         seat_comfort_rating  \\\n",
              "31578                        ...                                         4.0   \n",
              "\n",
              "       cabin_staff_rating  food_beverages_rating  \\\n",
              "31578                 5.0                    4.0   \n",
              "\n",
              "       inflight_entertainment_rating  ground_service_rating  \\\n",
              "31578                            4.0                    NaN   \n",
              "\n",
              "       wifi_connectivity_rating  value_money_rating  recommended  sentiment  \\\n",
              "31578                       NaN                 5.0            1          1   \n",
              "\n",
              "                                       reviews_processed  \n",
              "31578  Flew economy Frankfurt Singapore . Food decent...  \n",
              "\n",
              "[1 rows x 22 columns]"
            ]
          },
          "metadata": {
            "tags": []
          },
          "execution_count": 58
        }
      ]
    },
    {
      "metadata": {
        "id": "mZVXyfEHrlsd",
        "colab_type": "code",
        "colab": {}
      },
      "cell_type": "code",
      "source": [
        "reviews_array=np.array(new_airline_data.content)"
      ],
      "execution_count": 0,
      "outputs": []
    },
    {
      "metadata": {
        "id": "IXD2vA0Trt57",
        "colab_type": "code",
        "colab": {}
      },
      "cell_type": "code",
      "source": [
        "sentiment_array=np.array(new_airline_data.sentiment)"
      ],
      "execution_count": 0,
      "outputs": []
    },
    {
      "metadata": {
        "id": "cT6LO9DltGFo",
        "colab_type": "code",
        "colab": {
          "base_uri": "https://localhost:8080/",
          "height": 34
        },
        "outputId": "5c61cd93-d1b6-43bb-ec77-aa84ab9af800"
      },
      "cell_type": "code",
      "source": [
        "from keras.datasets import imdb\n",
        "from keras.layers import Dense,Conv1D,MaxPool1D,Embedding,Flatten,Dropout,GRU,LSTM\n",
        "from keras.preprocessing.text import Tokenizer\n",
        "from keras.models import Sequential\n",
        "from keras.preprocessing.sequence import pad_sequences\n",
        "from sklearn.preprocessing import OneHotEncoder\n",
        "from keras.optimizers import Adam\n",
        "import numpy as np\n",
        "import pandas as pd\n",
        "import matplotlib.pyplot as plt"
      ],
      "execution_count": 62,
      "outputs": [
        {
          "output_type": "stream",
          "text": [
            "Using TensorFlow backend.\n"
          ],
          "name": "stderr"
        }
      ]
    },
    {
      "metadata": {
        "id": "5uWiCZeur4yr",
        "colab_type": "code",
        "colab": {
          "base_uri": "https://localhost:8080/",
          "height": 34
        },
        "outputId": "4f8a3bb0-8805-40c4-b56f-789b9f453015"
      },
      "cell_type": "code",
      "source": [
        "token=Tokenizer()\n",
        "token.fit_on_texts(reviews_array) \n",
        "vocab_size=len(token.word_index) +1\n",
        "print(vocab_size)"
      ],
      "execution_count": 64,
      "outputs": [
        {
          "output_type": "stream",
          "text": [
            "37678\n"
          ],
          "name": "stdout"
        }
      ]
    },
    {
      "metadata": {
        "id": "QiKcZJgttOI5",
        "colab_type": "code",
        "colab": {}
      },
      "cell_type": "code",
      "source": [
        "l = 0\n",
        "for i in reviews_array:\n",
        "  l += len(i)\n",
        "  \n",
        "avg_length = l/len(reviews_array)\n",
        "review_training = [x[:int(avg_length)] for x in reviews_array]\n"
      ],
      "execution_count": 0,
      "outputs": []
    },
    {
      "metadata": {
        "id": "fdiIIJGNtmTt",
        "colab_type": "code",
        "colab": {}
      },
      "cell_type": "code",
      "source": [
        "# encoded = token.texts_to_sequences(reviews_array)\n",
        "# l = []\n",
        "# for i in encoded:\n",
        "#   l.append(len(i))\n",
        "# print(l/len(encoded))"
      ],
      "execution_count": 0,
      "outputs": []
    },
    {
      "metadata": {
        "id": "K5VkzXbgtw_N",
        "colab_type": "code",
        "colab": {}
      },
      "cell_type": "code",
      "source": [
        "padded_docs = pad_sequences(encoded, maxlen=38, padding='post')"
      ],
      "execution_count": 0,
      "outputs": []
    },
    {
      "metadata": {
        "id": "10zOA3UBvOaK",
        "colab_type": "text"
      },
      "cell_type": "markdown",
      "source": [
        "## **LSTM**"
      ]
    },
    {
      "metadata": {
        "id": "0DkyborJt9k3",
        "colab_type": "code",
        "colab": {
          "base_uri": "https://localhost:8080/",
          "height": 340
        },
        "outputId": "dfe1130e-5f15-453c-896f-55e6af7f8118"
      },
      "cell_type": "code",
      "source": [
        "n_model1 = Sequential()\n",
        "n_model1.add(Embedding(37678,64,input_length=38))\n",
        "n_model1.add(LSTM(64, activation='tanh', recurrent_activation='hard_sigmoid', use_bias=True, kernel_initializer='glorot_uniform', recurrent_initializer='orthogonal', bias_initializer='zeros', unit_forget_bias=True, kernel_regularizer=None, recurrent_regularizer=None, bias_regularizer=None, activity_regularizer=None, kernel_constraint=None, recurrent_constraint=None, bias_constraint=None, dropout=0.0, recurrent_dropout=0.0, implementation=1, return_sequences=True, return_state=False, go_backwards=False, stateful=False, unroll=False))\n",
        "n_model1.add(Dropout(0.5))\n",
        "n_model1.add(LSTM(64,return_sequences=False))\n",
        "n_model1.add(Dropout(0.5))\n",
        "n_model1.add(Dense(1,activation=\"sigmoid\"))\n",
        "n_model1.summary()\n",
        "n_model1.compile(loss='binary_crossentropy', optimizer='adam', metrics=['accuracy'])"
      ],
      "execution_count": 75,
      "outputs": [
        {
          "output_type": "stream",
          "text": [
            "_________________________________________________________________\n",
            "Layer (type)                 Output Shape              Param #   \n",
            "=================================================================\n",
            "embedding_2 (Embedding)      (None, 38, 64)            2411392   \n",
            "_________________________________________________________________\n",
            "lstm_3 (LSTM)                (None, 38, 64)            33024     \n",
            "_________________________________________________________________\n",
            "dropout_3 (Dropout)          (None, 38, 64)            0         \n",
            "_________________________________________________________________\n",
            "lstm_4 (LSTM)                (None, 64)                33024     \n",
            "_________________________________________________________________\n",
            "dropout_4 (Dropout)          (None, 64)                0         \n",
            "_________________________________________________________________\n",
            "dense_2 (Dense)              (None, 1)                 65        \n",
            "=================================================================\n",
            "Total params: 2,477,505\n",
            "Trainable params: 2,477,505\n",
            "Non-trainable params: 0\n",
            "_________________________________________________________________\n"
          ],
          "name": "stdout"
        }
      ]
    },
    {
      "metadata": {
        "id": "UTG7KVS0utds",
        "colab_type": "code",
        "colab": {
          "base_uri": "https://localhost:8080/",
          "height": 275
        },
        "outputId": "52952d97-9ca4-4783-e50a-82c7b40f6319"
      },
      "cell_type": "code",
      "source": [
        "hist = n_model1.fit(padded_docs,sentiment_array,epochs=5,batch_size=100,validation_split=0.2)"
      ],
      "execution_count": 76,
      "outputs": [
        {
          "output_type": "stream",
          "text": [
            "WARNING:tensorflow:From /usr/local/lib/python3.6/dist-packages/tensorflow/python/ops/math_ops.py:3066: to_int32 (from tensorflow.python.ops.math_ops) is deprecated and will be removed in a future version.\n",
            "Instructions for updating:\n",
            "Use tf.cast instead.\n",
            "Train on 29488 samples, validate on 7373 samples\n",
            "Epoch 1/5\n",
            "29488/29488 [==============================] - 40s 1ms/step - loss: 0.4716 - acc: 0.7725 - val_loss: 0.4018 - val_acc: 0.8283\n",
            "Epoch 2/5\n",
            "29488/29488 [==============================] - 38s 1ms/step - loss: 0.3562 - acc: 0.8549 - val_loss: 0.4038 - val_acc: 0.8204\n",
            "Epoch 3/5\n",
            "29488/29488 [==============================] - 37s 1ms/step - loss: 0.2973 - acc: 0.8836 - val_loss: 0.4231 - val_acc: 0.8142\n",
            "Epoch 4/5\n",
            "29488/29488 [==============================] - 37s 1ms/step - loss: 0.2439 - acc: 0.9078 - val_loss: 0.4939 - val_acc: 0.8013\n",
            "Epoch 5/5\n",
            "29488/29488 [==============================] - 36s 1ms/step - loss: 0.1928 - acc: 0.9301 - val_loss: 0.5099 - val_acc: 0.7991\n"
          ],
          "name": "stdout"
        }
      ]
    },
    {
      "metadata": {
        "id": "HfDE2R2Ru7ak",
        "colab_type": "code",
        "colab": {}
      },
      "cell_type": "code",
      "source": [
        ""
      ],
      "execution_count": 0,
      "outputs": []
    },
    {
      "metadata": {
        "id": "bu3DrUM3vwXY",
        "colab_type": "text"
      },
      "cell_type": "markdown",
      "source": [
        "## **CNN**"
      ]
    },
    {
      "metadata": {
        "id": "qHleXlmpv7cG",
        "colab_type": "code",
        "colab": {
          "base_uri": "https://localhost:8080/",
          "height": 374
        },
        "outputId": "77668ea4-4b91-4b98-97f1-1d8a68e3e08d"
      },
      "cell_type": "code",
      "source": [
        "n_model2 = Sequential()\n",
        "n_model2.add(Embedding(37678,100,input_length=38))\n",
        "n_model2.add(Conv1D(filters=64,kernel_size=3))\n",
        "n_model2.add(MaxPool1D(pool_size=3))\n",
        "n_model2.add(Flatten())\n",
        "n_model2.add(Dense(64,activation=\"relu\"))\n",
        "n_model2.add(Dropout(rate = 0.2))\n",
        "n_model2.add(Dense(1,activation=\"sigmoid\"))\n",
        "n_model2.summary()\n",
        "adm = Adam(lr=0.00001, beta_1=0.9, beta_2=0.999, epsilon=None, decay=0.0, amsgrad=False)\n",
        "n_model2.compile(loss='binary_crossentropy', optimizer=adm, metrics=['accuracy'])"
      ],
      "execution_count": 79,
      "outputs": [
        {
          "output_type": "stream",
          "text": [
            "_________________________________________________________________\n",
            "Layer (type)                 Output Shape              Param #   \n",
            "=================================================================\n",
            "embedding_5 (Embedding)      (None, 38, 100)           3767800   \n",
            "_________________________________________________________________\n",
            "conv1d_3 (Conv1D)            (None, 36, 64)            19264     \n",
            "_________________________________________________________________\n",
            "max_pooling1d_3 (MaxPooling1 (None, 12, 64)            0         \n",
            "_________________________________________________________________\n",
            "flatten_3 (Flatten)          (None, 768)               0         \n",
            "_________________________________________________________________\n",
            "dense_7 (Dense)              (None, 64)                49216     \n",
            "_________________________________________________________________\n",
            "dropout_7 (Dropout)          (None, 64)                0         \n",
            "_________________________________________________________________\n",
            "dense_8 (Dense)              (None, 1)                 65        \n",
            "=================================================================\n",
            "Total params: 3,836,345\n",
            "Trainable params: 3,836,345\n",
            "Non-trainable params: 0\n",
            "_________________________________________________________________\n"
          ],
          "name": "stdout"
        }
      ]
    },
    {
      "metadata": {
        "id": "-SPkWfY8wDzp",
        "colab_type": "code",
        "colab": {
          "base_uri": "https://localhost:8080/",
          "height": 3434
        },
        "outputId": "68cea884-d801-4df8-a474-7686d9fc55e8"
      },
      "cell_type": "code",
      "source": [
        "hist = n_model2.fit(padded_docs,sentiment_array,epochs=100,batch_size=100,validation_split=0.1)"
      ],
      "execution_count": 80,
      "outputs": [
        {
          "output_type": "stream",
          "text": [
            "Train on 33174 samples, validate on 3687 samples\n",
            "Epoch 1/100\n",
            "33174/33174 [==============================] - 23s 688us/step - loss: 0.6859 - acc: 0.5677 - val_loss: 0.6800 - val_acc: 0.5837\n",
            "Epoch 2/100\n",
            "33174/33174 [==============================] - 22s 654us/step - loss: 0.6750 - acc: 0.5908 - val_loss: 0.6750 - val_acc: 0.5837\n",
            "Epoch 3/100\n",
            "33174/33174 [==============================] - 22s 660us/step - loss: 0.6706 - acc: 0.5908 - val_loss: 0.6711 - val_acc: 0.5837\n",
            "Epoch 4/100\n",
            "33174/33174 [==============================] - 22s 666us/step - loss: 0.6650 - acc: 0.5908 - val_loss: 0.6655 - val_acc: 0.5837\n",
            "Epoch 5/100\n",
            "33174/33174 [==============================] - 22s 650us/step - loss: 0.6575 - acc: 0.5908 - val_loss: 0.6567 - val_acc: 0.5837\n",
            "Epoch 6/100\n",
            "33174/33174 [==============================] - 22s 650us/step - loss: 0.6460 - acc: 0.5915 - val_loss: 0.6425 - val_acc: 0.5891\n",
            "Epoch 7/100\n",
            "33174/33174 [==============================] - 23s 680us/step - loss: 0.6284 - acc: 0.6121 - val_loss: 0.6218 - val_acc: 0.6222\n",
            "Epoch 8/100\n",
            "33174/33174 [==============================] - 21s 643us/step - loss: 0.6046 - acc: 0.6722 - val_loss: 0.5949 - val_acc: 0.6813\n",
            "Epoch 9/100\n",
            "33174/33174 [==============================] - 22s 653us/step - loss: 0.5754 - acc: 0.7240 - val_loss: 0.5653 - val_acc: 0.7266\n",
            "Epoch 10/100\n",
            "33174/33174 [==============================] - 22s 653us/step - loss: 0.5463 - acc: 0.7511 - val_loss: 0.5368 - val_acc: 0.7513\n",
            "Epoch 11/100\n",
            "33174/33174 [==============================] - 22s 668us/step - loss: 0.5190 - acc: 0.7679 - val_loss: 0.5122 - val_acc: 0.7624\n",
            "Epoch 12/100\n",
            "33174/33174 [==============================] - 22s 654us/step - loss: 0.4961 - acc: 0.7791 - val_loss: 0.4915 - val_acc: 0.7711\n",
            "Epoch 13/100\n",
            "33174/33174 [==============================] - 22s 650us/step - loss: 0.4740 - acc: 0.7915 - val_loss: 0.4739 - val_acc: 0.7792\n",
            "Epoch 14/100\n",
            "33174/33174 [==============================] - 23s 684us/step - loss: 0.4568 - acc: 0.7988 - val_loss: 0.4589 - val_acc: 0.7920\n",
            "Epoch 15/100\n",
            "33174/33174 [==============================] - 22s 662us/step - loss: 0.4407 - acc: 0.8070 - val_loss: 0.4464 - val_acc: 0.7979\n",
            "Epoch 16/100\n",
            "33174/33174 [==============================] - 22s 652us/step - loss: 0.4279 - acc: 0.8146 - val_loss: 0.4363 - val_acc: 0.8042\n",
            "Epoch 17/100\n",
            "33174/33174 [==============================] - 22s 651us/step - loss: 0.4152 - acc: 0.8216 - val_loss: 0.4278 - val_acc: 0.8082\n",
            "Epoch 18/100\n",
            "33174/33174 [==============================] - 22s 671us/step - loss: 0.4042 - acc: 0.8270 - val_loss: 0.4205 - val_acc: 0.8142\n",
            "Epoch 19/100\n",
            "33174/33174 [==============================] - 21s 645us/step - loss: 0.3949 - acc: 0.8335 - val_loss: 0.4149 - val_acc: 0.8150\n",
            "Epoch 20/100\n",
            "33174/33174 [==============================] - 22s 667us/step - loss: 0.3867 - acc: 0.8370 - val_loss: 0.4102 - val_acc: 0.8205\n",
            "Epoch 21/100\n",
            "33174/33174 [==============================] - 23s 692us/step - loss: 0.3798 - acc: 0.8412 - val_loss: 0.4065 - val_acc: 0.8183\n",
            "Epoch 22/100\n",
            "33174/33174 [==============================] - 23s 685us/step - loss: 0.3734 - acc: 0.8447 - val_loss: 0.4034 - val_acc: 0.8205\n",
            "Epoch 23/100\n",
            "33174/33174 [==============================] - 22s 677us/step - loss: 0.3662 - acc: 0.8477 - val_loss: 0.4008 - val_acc: 0.8221\n",
            "Epoch 24/100\n",
            "33174/33174 [==============================] - 23s 681us/step - loss: 0.3606 - acc: 0.8503 - val_loss: 0.3987 - val_acc: 0.8226\n",
            "Epoch 25/100\n",
            "33174/33174 [==============================] - 23s 684us/step - loss: 0.3556 - acc: 0.8527 - val_loss: 0.3968 - val_acc: 0.8223\n",
            "Epoch 26/100\n",
            "33174/33174 [==============================] - 23s 683us/step - loss: 0.3503 - acc: 0.8571 - val_loss: 0.3956 - val_acc: 0.8237\n",
            "Epoch 27/100\n",
            "33174/33174 [==============================] - 22s 663us/step - loss: 0.3447 - acc: 0.8585 - val_loss: 0.3943 - val_acc: 0.8245\n",
            "Epoch 28/100\n",
            "33174/33174 [==============================] - 22s 675us/step - loss: 0.3403 - acc: 0.8598 - val_loss: 0.3934 - val_acc: 0.8253\n",
            "Epoch 29/100\n",
            "33174/33174 [==============================] - 22s 672us/step - loss: 0.3354 - acc: 0.8632 - val_loss: 0.3929 - val_acc: 0.8270\n",
            "Epoch 30/100\n",
            "33174/33174 [==============================] - 22s 656us/step - loss: 0.3318 - acc: 0.8653 - val_loss: 0.3922 - val_acc: 0.8248\n",
            "Epoch 31/100\n",
            "33174/33174 [==============================] - 22s 654us/step - loss: 0.3279 - acc: 0.8658 - val_loss: 0.3919 - val_acc: 0.8242\n",
            "Epoch 32/100\n",
            "33174/33174 [==============================] - 22s 668us/step - loss: 0.3234 - acc: 0.8707 - val_loss: 0.3922 - val_acc: 0.8256\n",
            "Epoch 33/100\n",
            "33174/33174 [==============================] - 22s 669us/step - loss: 0.3186 - acc: 0.8708 - val_loss: 0.3918 - val_acc: 0.8248\n",
            "Epoch 34/100\n",
            "33174/33174 [==============================] - 22s 657us/step - loss: 0.3145 - acc: 0.8739 - val_loss: 0.3919 - val_acc: 0.8242\n",
            "Epoch 35/100\n",
            "33174/33174 [==============================] - 21s 647us/step - loss: 0.3104 - acc: 0.8756 - val_loss: 0.3921 - val_acc: 0.8248\n",
            "Epoch 36/100\n",
            "33174/33174 [==============================] - 22s 670us/step - loss: 0.3074 - acc: 0.8781 - val_loss: 0.3926 - val_acc: 0.8256\n",
            "Epoch 37/100\n",
            "33174/33174 [==============================] - 22s 667us/step - loss: 0.3032 - acc: 0.8789 - val_loss: 0.3929 - val_acc: 0.8256\n",
            "Epoch 38/100\n",
            "33174/33174 [==============================] - 22s 666us/step - loss: 0.2990 - acc: 0.8813 - val_loss: 0.3934 - val_acc: 0.8229\n",
            "Epoch 39/100\n",
            "33174/33174 [==============================] - 22s 661us/step - loss: 0.2967 - acc: 0.8813 - val_loss: 0.3940 - val_acc: 0.8240\n",
            "Epoch 40/100\n",
            "33174/33174 [==============================] - 23s 684us/step - loss: 0.2921 - acc: 0.8849 - val_loss: 0.3948 - val_acc: 0.8223\n",
            "Epoch 41/100\n",
            "33174/33174 [==============================] - 22s 664us/step - loss: 0.2881 - acc: 0.8864 - val_loss: 0.3957 - val_acc: 0.8226\n",
            "Epoch 42/100\n",
            "33174/33174 [==============================] - 23s 684us/step - loss: 0.2840 - acc: 0.8885 - val_loss: 0.3967 - val_acc: 0.8215\n",
            "Epoch 43/100\n",
            "33174/33174 [==============================] - 22s 670us/step - loss: 0.2811 - acc: 0.8896 - val_loss: 0.3976 - val_acc: 0.8221\n",
            "Epoch 44/100\n",
            "33174/33174 [==============================] - 23s 679us/step - loss: 0.2775 - acc: 0.8914 - val_loss: 0.3989 - val_acc: 0.8199\n",
            "Epoch 45/100\n",
            "33174/33174 [==============================] - 22s 657us/step - loss: 0.2734 - acc: 0.8927 - val_loss: 0.4007 - val_acc: 0.8186\n",
            "Epoch 46/100\n",
            "33174/33174 [==============================] - 22s 652us/step - loss: 0.2703 - acc: 0.8943 - val_loss: 0.4015 - val_acc: 0.8169\n",
            "Epoch 47/100\n",
            "33174/33174 [==============================] - 22s 663us/step - loss: 0.2668 - acc: 0.8964 - val_loss: 0.4026 - val_acc: 0.8183\n",
            "Epoch 48/100\n",
            "33174/33174 [==============================] - 22s 659us/step - loss: 0.2632 - acc: 0.8978 - val_loss: 0.4041 - val_acc: 0.8183\n",
            "Epoch 49/100\n",
            "33174/33174 [==============================] - 21s 645us/step - loss: 0.2603 - acc: 0.8988 - val_loss: 0.4057 - val_acc: 0.8172\n",
            "Epoch 50/100\n",
            "33174/33174 [==============================] - 21s 640us/step - loss: 0.2564 - acc: 0.9022 - val_loss: 0.4075 - val_acc: 0.8161\n",
            "Epoch 51/100\n",
            "33174/33174 [==============================] - 22s 674us/step - loss: 0.2532 - acc: 0.9034 - val_loss: 0.4093 - val_acc: 0.8158\n",
            "Epoch 52/100\n",
            "33174/33174 [==============================] - 22s 673us/step - loss: 0.2501 - acc: 0.9053 - val_loss: 0.4108 - val_acc: 0.8172\n",
            "Epoch 53/100\n",
            "33174/33174 [==============================] - 22s 664us/step - loss: 0.2465 - acc: 0.9067 - val_loss: 0.4134 - val_acc: 0.8150\n",
            "Epoch 54/100\n",
            "33174/33174 [==============================] - 22s 665us/step - loss: 0.2426 - acc: 0.9076 - val_loss: 0.4148 - val_acc: 0.8164\n",
            "Epoch 55/100\n",
            "33174/33174 [==============================] - 23s 683us/step - loss: 0.2399 - acc: 0.9095 - val_loss: 0.4167 - val_acc: 0.8164\n",
            "Epoch 56/100\n",
            "33174/33174 [==============================] - 23s 690us/step - loss: 0.2368 - acc: 0.9101 - val_loss: 0.4192 - val_acc: 0.8153\n",
            "Epoch 57/100\n",
            "33174/33174 [==============================] - 22s 664us/step - loss: 0.2327 - acc: 0.9132 - val_loss: 0.4212 - val_acc: 0.8153\n",
            "Epoch 58/100\n",
            "33174/33174 [==============================] - 22s 676us/step - loss: 0.2298 - acc: 0.9140 - val_loss: 0.4236 - val_acc: 0.8156\n",
            "Epoch 59/100\n",
            "33174/33174 [==============================] - 22s 658us/step - loss: 0.2268 - acc: 0.9156 - val_loss: 0.4259 - val_acc: 0.8153\n",
            "Epoch 60/100\n",
            "33174/33174 [==============================] - 22s 664us/step - loss: 0.2242 - acc: 0.9170 - val_loss: 0.4283 - val_acc: 0.8142\n",
            "Epoch 61/100\n",
            "33174/33174 [==============================] - 22s 668us/step - loss: 0.2204 - acc: 0.9185 - val_loss: 0.4307 - val_acc: 0.8145\n",
            "Epoch 62/100\n",
            "33174/33174 [==============================] - 23s 690us/step - loss: 0.2169 - acc: 0.9201 - val_loss: 0.4336 - val_acc: 0.8148\n",
            "Epoch 63/100\n",
            "33174/33174 [==============================] - 22s 678us/step - loss: 0.2136 - acc: 0.9219 - val_loss: 0.4358 - val_acc: 0.8120\n",
            "Epoch 64/100\n",
            "33174/33174 [==============================] - 22s 671us/step - loss: 0.2109 - acc: 0.9223 - val_loss: 0.4385 - val_acc: 0.8126\n",
            "Epoch 65/100\n",
            "33174/33174 [==============================] - 23s 681us/step - loss: 0.2073 - acc: 0.9254 - val_loss: 0.4413 - val_acc: 0.8126\n",
            "Epoch 66/100\n",
            "33174/33174 [==============================] - 22s 664us/step - loss: 0.2051 - acc: 0.9250 - val_loss: 0.4445 - val_acc: 0.8134\n",
            "Epoch 67/100\n",
            "33174/33174 [==============================] - 22s 652us/step - loss: 0.2010 - acc: 0.9280 - val_loss: 0.4474 - val_acc: 0.8126\n",
            "Epoch 68/100\n",
            "33174/33174 [==============================] - 21s 646us/step - loss: 0.1981 - acc: 0.9274 - val_loss: 0.4504 - val_acc: 0.8118\n",
            "Epoch 69/100\n",
            "33174/33174 [==============================] - 22s 662us/step - loss: 0.1952 - acc: 0.9291 - val_loss: 0.4537 - val_acc: 0.8112\n",
            "Epoch 70/100\n",
            "33174/33174 [==============================] - 22s 668us/step - loss: 0.1919 - acc: 0.9320 - val_loss: 0.4570 - val_acc: 0.8104\n",
            "Epoch 71/100\n",
            "33174/33174 [==============================] - 21s 635us/step - loss: 0.1896 - acc: 0.9337 - val_loss: 0.4603 - val_acc: 0.8110\n",
            "Epoch 72/100\n",
            "33174/33174 [==============================] - 21s 638us/step - loss: 0.1858 - acc: 0.9354 - val_loss: 0.4644 - val_acc: 0.8115\n",
            "Epoch 73/100\n",
            "33174/33174 [==============================] - 22s 662us/step - loss: 0.1834 - acc: 0.9362 - val_loss: 0.4682 - val_acc: 0.8101\n",
            "Epoch 74/100\n",
            "33174/33174 [==============================] - 21s 640us/step - loss: 0.1808 - acc: 0.9371 - val_loss: 0.4719 - val_acc: 0.8080\n",
            "Epoch 75/100\n",
            "33174/33174 [==============================] - 21s 636us/step - loss: 0.1780 - acc: 0.9371 - val_loss: 0.4741 - val_acc: 0.8099\n",
            "Epoch 76/100\n",
            "33174/33174 [==============================] - 22s 667us/step - loss: 0.1748 - acc: 0.9397 - val_loss: 0.4778 - val_acc: 0.8088\n",
            "Epoch 77/100\n",
            "33174/33174 [==============================] - 22s 662us/step - loss: 0.1718 - acc: 0.9406 - val_loss: 0.4817 - val_acc: 0.8074\n",
            "Epoch 78/100\n",
            "33174/33174 [==============================] - 21s 648us/step - loss: 0.1689 - acc: 0.9425 - val_loss: 0.4855 - val_acc: 0.8069\n",
            "Epoch 79/100\n",
            "33174/33174 [==============================] - 22s 653us/step - loss: 0.1665 - acc: 0.9440 - val_loss: 0.4891 - val_acc: 0.8061\n",
            "Epoch 80/100\n",
            "33174/33174 [==============================] - 22s 677us/step - loss: 0.1640 - acc: 0.9447 - val_loss: 0.4935 - val_acc: 0.8050\n",
            "Epoch 81/100\n",
            "33174/33174 [==============================] - 22s 666us/step - loss: 0.1610 - acc: 0.9461 - val_loss: 0.4976 - val_acc: 0.8034\n",
            "Epoch 82/100\n",
            "33174/33174 [==============================] - 22s 654us/step - loss: 0.1590 - acc: 0.9472 - val_loss: 0.5014 - val_acc: 0.8031\n",
            "Epoch 83/100\n",
            "33174/33174 [==============================] - 22s 665us/step - loss: 0.1558 - acc: 0.9482 - val_loss: 0.5052 - val_acc: 0.8028\n",
            "Epoch 84/100\n",
            "33174/33174 [==============================] - 23s 688us/step - loss: 0.1535 - acc: 0.9489 - val_loss: 0.5103 - val_acc: 0.8007\n",
            "Epoch 85/100\n",
            "33174/33174 [==============================] - 21s 647us/step - loss: 0.1508 - acc: 0.9511 - val_loss: 0.5143 - val_acc: 0.8009\n",
            "Epoch 86/100\n",
            "33174/33174 [==============================] - 22s 652us/step - loss: 0.1480 - acc: 0.9518 - val_loss: 0.5182 - val_acc: 0.8007\n",
            "Epoch 87/100\n",
            "33174/33174 [==============================] - 22s 672us/step - loss: 0.1459 - acc: 0.9529 - val_loss: 0.5224 - val_acc: 0.7996\n",
            "Epoch 88/100\n",
            "33174/33174 [==============================] - 22s 669us/step - loss: 0.1430 - acc: 0.9542 - val_loss: 0.5272 - val_acc: 0.7977\n",
            "Epoch 89/100\n",
            "33174/33174 [==============================] - 22s 659us/step - loss: 0.1406 - acc: 0.9550 - val_loss: 0.5316 - val_acc: 0.7979\n",
            "Epoch 90/100\n",
            "33174/33174 [==============================] - 22s 672us/step - loss: 0.1379 - acc: 0.9561 - val_loss: 0.5375 - val_acc: 0.7979\n",
            "Epoch 91/100\n",
            "33174/33174 [==============================] - 23s 680us/step - loss: 0.1356 - acc: 0.9570 - val_loss: 0.5415 - val_acc: 0.7960\n",
            "Epoch 92/100\n",
            "33174/33174 [==============================] - 22s 663us/step - loss: 0.1328 - acc: 0.9592 - val_loss: 0.5453 - val_acc: 0.7947\n",
            "Epoch 93/100\n",
            "33174/33174 [==============================] - 22s 667us/step - loss: 0.1304 - acc: 0.9597 - val_loss: 0.5511 - val_acc: 0.7947\n",
            "Epoch 94/100\n",
            "33174/33174 [==============================] - 22s 665us/step - loss: 0.1282 - acc: 0.9607 - val_loss: 0.5572 - val_acc: 0.7917\n",
            "Epoch 95/100\n",
            "33174/33174 [==============================] - 22s 673us/step - loss: 0.1261 - acc: 0.9614 - val_loss: 0.5609 - val_acc: 0.7917\n",
            "Epoch 96/100\n",
            "33174/33174 [==============================] - 21s 647us/step - loss: 0.1240 - acc: 0.9620 - val_loss: 0.5661 - val_acc: 0.7917\n",
            "Epoch 97/100\n",
            "33174/33174 [==============================] - 22s 669us/step - loss: 0.1207 - acc: 0.9638 - val_loss: 0.5713 - val_acc: 0.7909\n",
            "Epoch 98/100\n",
            "33174/33174 [==============================] - 23s 687us/step - loss: 0.1189 - acc: 0.9644 - val_loss: 0.5763 - val_acc: 0.7890\n",
            "Epoch 99/100\n",
            "33174/33174 [==============================] - 22s 659us/step - loss: 0.1165 - acc: 0.9647 - val_loss: 0.5817 - val_acc: 0.7890\n",
            "Epoch 100/100\n",
            "33174/33174 [==============================] - 22s 661us/step - loss: 0.1144 - acc: 0.9665 - val_loss: 0.5870 - val_acc: 0.7879\n"
          ],
          "name": "stdout"
        }
      ]
    },
    {
      "metadata": {
        "id": "LVmM60URwUqA",
        "colab_type": "code",
        "colab": {
          "base_uri": "https://localhost:8080/",
          "height": 364
        },
        "outputId": "b99eb4b1-d35b-4401-bf85-cb124a042f31"
      },
      "cell_type": "code",
      "source": [
        "plt.plot(hist.history[\"acc\"],label=\"acc\")\n",
        "plt.plot(hist.history[\"val_acc\"],label=\"val\")\n",
        "plt.legend()"
      ],
      "execution_count": 81,
      "outputs": [
        {
          "output_type": "execute_result",
          "data": {
            "text/plain": [
              "<matplotlib.legend.Legend at 0x7fa03f688400>"
            ]
          },
          "metadata": {
            "tags": []
          },
          "execution_count": 81
        },
        {
          "output_type": "display_data",
          "data": {
            "image/png": "[encoded data removed]",
            "text/plain": [
              "<Figure size 576x396 with 1 Axes>"
            ]
          },
          "metadata": {
            "tags": []
          }
        }
      ]
    },
    {
      "metadata": {
        "id": "uWBCoVRD5By1",
        "colab_type": "code",
        "colab": {
          "base_uri": "https://localhost:8080/",
          "height": 340
        },
        "outputId": "c1515d83-09c9-4d3e-e250-612ce907de37"
      },
      "cell_type": "code",
      "source": [
        "model_conv = Sequential()\n",
        "model_conv.add(Embedding(vocab_size, 100, input_length=38))\n",
        "model_conv.add(Dropout(0.2))\n",
        "model_conv.add(Conv1D(64, 5, activation='relu'))\n",
        "model_conv.add(MaxPool1D(pool_size=4))\n",
        "model_conv.add(LSTM(100))\n",
        "model_conv.add(Dense(1, activation='sigmoid'))\n",
        "adm = Adam(lr=0.0001, beta_1=0.9, beta_2=0.999, epsilon=None, decay=0.0, amsgrad=False)\n",
        "model_conv.compile(loss='binary_crossentropy', optimizer=adm,    metrics=['accuracy'])\n",
        "model_conv.summary()\n"
      ],
      "execution_count": 86,
      "outputs": [
        {
          "output_type": "stream",
          "text": [
            "_________________________________________________________________\n",
            "Layer (type)                 Output Shape              Param #   \n",
            "=================================================================\n",
            "embedding_7 (Embedding)      (None, 38, 100)           3767800   \n",
            "_________________________________________________________________\n",
            "dropout_9 (Dropout)          (None, 38, 100)           0         \n",
            "_________________________________________________________________\n",
            "conv1d_5 (Conv1D)            (None, 34, 64)            32064     \n",
            "_________________________________________________________________\n",
            "max_pooling1d_5 (MaxPooling1 (None, 8, 64)             0         \n",
            "_________________________________________________________________\n",
            "lstm_6 (LSTM)                (None, 100)               66000     \n",
            "_________________________________________________________________\n",
            "dense_10 (Dense)             (None, 1)                 101       \n",
            "=================================================================\n",
            "Total params: 3,865,965\n",
            "Trainable params: 3,865,965\n",
            "Non-trainable params: 0\n",
            "_________________________________________________________________\n"
          ],
          "name": "stdout"
        }
      ]
    },
    {
      "metadata": {
        "id": "kCJfJ2_w5DR0",
        "colab_type": "code",
        "colab": {
          "base_uri": "https://localhost:8080/",
          "height": 391
        },
        "outputId": "bc17cd8b-040a-46cf-c0b3-e3a8867bb9df"
      },
      "cell_type": "code",
      "source": [
        "model_conv.fit(padded_docs,sentiment_array, validation_split=0.2, epochs = 10)"
      ],
      "execution_count": 87,
      "outputs": [
        {
          "output_type": "stream",
          "text": [
            "Train on 29488 samples, validate on 7373 samples\n",
            "Epoch 1/10\n",
            "29488/29488 [==============================] - 73s 2ms/step - loss: 0.5655 - acc: 0.6930 - val_loss: 0.4516 - val_acc: 0.7951\n",
            "Epoch 2/10\n",
            "29488/29488 [==============================] - 71s 2ms/step - loss: 0.4169 - acc: 0.8122 - val_loss: 0.4189 - val_acc: 0.8088\n",
            "Epoch 3/10\n",
            "29488/29488 [==============================] - 72s 2ms/step - loss: 0.3694 - acc: 0.8420 - val_loss: 0.4149 - val_acc: 0.8150\n",
            "Epoch 4/10\n",
            "29488/29488 [==============================] - 70s 2ms/step - loss: 0.3337 - acc: 0.8600 - val_loss: 0.4201 - val_acc: 0.8107\n",
            "Epoch 5/10\n",
            "29488/29488 [==============================] - 71s 2ms/step - loss: 0.3034 - acc: 0.8761 - val_loss: 0.4287 - val_acc: 0.8085\n",
            "Epoch 6/10\n",
            "29488/29488 [==============================] - 71s 2ms/step - loss: 0.2734 - acc: 0.8903 - val_loss: 0.4478 - val_acc: 0.8056\n",
            "Epoch 7/10\n",
            "29488/29488 [==============================] - 70s 2ms/step - loss: 0.2396 - acc: 0.9064 - val_loss: 0.4779 - val_acc: 0.8016\n",
            "Epoch 8/10\n",
            "29488/29488 [==============================] - 69s 2ms/step - loss: 0.2024 - acc: 0.9228 - val_loss: 0.5058 - val_acc: 0.7978\n",
            "Epoch 9/10\n",
            "29488/29488 [==============================] - 69s 2ms/step - loss: 0.1579 - acc: 0.9423 - val_loss: 0.5606 - val_acc: 0.7922\n",
            "Epoch 10/10\n",
            "29488/29488 [==============================] - 71s 2ms/step - loss: 0.1177 - acc: 0.9579 - val_loss: 0.6562 - val_acc: 0.7854\n"
          ],
          "name": "stdout"
        },
        {
          "output_type": "execute_result",
          "data": {
            "text/plain": [
              "<keras.callbacks.History at 0x7fa03da84e10>"
            ]
          },
          "metadata": {
            "tags": []
          },
          "execution_count": 87
        }
      ]
    },
    {
      "metadata": {
        "id": "fVgPdd3Dvtwh",
        "colab_type": "text"
      },
      "cell_type": "markdown",
      "source": [
        ""
      ]
    }
  ]
}