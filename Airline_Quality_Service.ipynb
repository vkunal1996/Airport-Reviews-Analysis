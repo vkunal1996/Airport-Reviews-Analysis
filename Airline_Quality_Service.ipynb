{
  "nbformat": 4,
  "nbformat_minor": 0,
  "metadata": {
    "colab": {
      "name": "Airline Quality Service.ipynb",
      "version": "0.3.2",
      "provenance": [],
      "include_colab_link": true
    },
    "kernelspec": {
      "name": "python3",
      "display_name": "Python 3"
    }
  },
  "cells": [
    {
      "cell_type": "markdown",
      "metadata": {
        "id": "view-in-github",
        "colab_type": "text"
      },
      "source": [
        "<a href=\"https://colab.research.google.com/github/vkunal1996/Airport-Reviews-Analysis/blob/master/Airline_Quality_Service.ipynb\" target=\"_parent\"><img src=\"https://colab.research.google.com/assets/colab-badge.svg\" alt=\"Open In Colab\"/></a>"
      ]
    },
    {
      "metadata": {
        "id": "FOXGw608gh-Q",
        "colab_type": "text"
      },
      "cell_type": "markdown",
      "source": [
        "# **Airline Quality Service Analysis**"
      ]
    },
    {
      "metadata": {
        "id": "0hvDpOoCgudn",
        "colab_type": "code",
        "colab": {}
      },
      "cell_type": "code",
      "source": [
        "import pandas as pd\n",
        "import numpy as np\n",
        "import matplotlib.pyplot as plt"
      ],
      "execution_count": 0,
      "outputs": []
    },
    {
      "metadata": {
        "id": "0lej7IwMG-2d",
        "colab_type": "code",
        "outputId": "bb7b8783-6797-4b72-e50c-16ae1c817748",
        "colab": {
          "base_uri": "https://localhost:8080/",
          "height": 323
        }
      },
      "cell_type": "code",
      "source": [
        "!pip install pydrive"
      ],
      "execution_count": 2,
      "outputs": [
        {
          "output_type": "stream",
          "text": [
            "Collecting pydrive\n",
            "\u001b[?25l  Downloading https://files.pythonhosted.org/packages/52/e0/0e64788e5dd58ce2d6934549676243dc69d982f198524be9b99e9c2a4fd5/PyDrive-1.3.1.tar.gz (987kB)\n",
            "\u001b[K    100% |████████████████████████████████| 993kB 17.9MB/s \n",
            "\u001b[?25hRequirement already satisfied: google-api-python-client>=1.2 in /usr/local/lib/python3.6/dist-packages (from pydrive) (1.6.7)\n",
            "Requirement already satisfied: oauth2client>=4.0.0 in /usr/local/lib/python3.6/dist-packages (from pydrive) (4.1.3)\n",
            "Requirement already satisfied: PyYAML>=3.0 in /usr/local/lib/python3.6/dist-packages (from pydrive) (3.13)\n",
            "Requirement already satisfied: uritemplate<4dev,>=3.0.0 in /usr/local/lib/python3.6/dist-packages (from google-api-python-client>=1.2->pydrive) (3.0.0)\n",
            "Requirement already satisfied: six<2dev,>=1.6.1 in /usr/local/lib/python3.6/dist-packages (from google-api-python-client>=1.2->pydrive) (1.11.0)\n",
            "Requirement already satisfied: httplib2<1dev,>=0.9.2 in /usr/local/lib/python3.6/dist-packages (from google-api-python-client>=1.2->pydrive) (0.11.3)\n",
            "Requirement already satisfied: rsa>=3.1.4 in /usr/local/lib/python3.6/dist-packages (from oauth2client>=4.0.0->pydrive) (4.0)\n",
            "Requirement already satisfied: pyasn1-modules>=0.0.5 in /usr/local/lib/python3.6/dist-packages (from oauth2client>=4.0.0->pydrive) (0.2.4)\n",
            "Requirement already satisfied: pyasn1>=0.1.7 in /usr/local/lib/python3.6/dist-packages (from oauth2client>=4.0.0->pydrive) (0.4.5)\n",
            "Building wheels for collected packages: pydrive\n",
            "  Building wheel for pydrive (setup.py) ... \u001b[?25ldone\n",
            "\u001b[?25h  Stored in directory: /root/.cache/pip/wheels/fa/d2/9a/d3b6b506c2da98289e5d417215ce34b696db856643bad779f4\n",
            "Successfully built pydrive\n",
            "Installing collected packages: pydrive\n",
            "Successfully installed pydrive-1.3.1\n"
          ],
          "name": "stdout"
        }
      ]
    },
    {
      "metadata": {
        "id": "ijbpYlgFhp93",
        "colab_type": "code",
        "colab": {}
      },
      "cell_type": "code",
      "source": [
        "from pydrive.auth import GoogleAuth\n",
        "from pydrive.drive import GoogleDrive\n",
        "from google.colab import auth\n",
        "from oauth2client.client import GoogleCredentials\n",
        "# Authenticate and create the PyDrive client.\n",
        "auth.authenticate_user()\n",
        "gauth = GoogleAuth()\n",
        "gauth.credentials = GoogleCredentials.get_application_default()\n",
        "drive = GoogleDrive(gauth)"
      ],
      "execution_count": 0,
      "outputs": []
    },
    {
      "metadata": {
        "id": "1Xk4PDAYkJYN",
        "colab_type": "code",
        "colab": {}
      },
      "cell_type": "code",
      "source": [
        "link='https://drive.google.com/open?id=1tmzZKQKEvxt61TxjHchFfJkpqklVgdzP'\n",
        "fluff,id=link.split('=')\n",
        "downloaded = drive.CreateFile({'id':id}) \n",
        "downloaded.GetContentFile('airline.csv')  \n",
        "airline_data = pd.read_csv('airline.csv')"
      ],
      "execution_count": 0,
      "outputs": []
    },
    {
      "metadata": {
        "id": "TtixSsYZk4NP",
        "colab_type": "code",
        "outputId": "07620017-19d1-4075-9d16-766caad0e5ad",
        "colab": {
          "base_uri": "https://localhost:8080/",
          "height": 185
        }
      },
      "cell_type": "code",
      "source": [
        "airline_data.head(1)"
      ],
      "execution_count": 5,
      "outputs": [
        {
          "output_type": "execute_result",
          "data": {
            "text/html": [
              "<div>\n",
              "<style scoped>\n",
              "    .dataframe tbody tr th:only-of-type {\n",
              "        vertical-align: middle;\n",
              "    }\n",
              "\n",
              "    .dataframe tbody tr th {\n",
              "        vertical-align: top;\n",
              "    }\n",
              "\n",
              "    .dataframe thead th {\n",
              "        text-align: right;\n",
              "    }\n",
              "</style>\n",
              "<table border=\"1\" class=\"dataframe\">\n",
              "  <thead>\n",
              "    <tr style=\"text-align: right;\">\n",
              "      <th></th>\n",
              "      <th>airline_name</th>\n",
              "      <th>link</th>\n",
              "      <th>title</th>\n",
              "      <th>author</th>\n",
              "      <th>author_country</th>\n",
              "      <th>date</th>\n",
              "      <th>content</th>\n",
              "      <th>aircraft</th>\n",
              "      <th>type_traveller</th>\n",
              "      <th>cabin_flown</th>\n",
              "      <th>route</th>\n",
              "      <th>overall_rating</th>\n",
              "      <th>seat_comfort_rating</th>\n",
              "      <th>cabin_staff_rating</th>\n",
              "      <th>food_beverages_rating</th>\n",
              "      <th>inflight_entertainment_rating</th>\n",
              "      <th>ground_service_rating</th>\n",
              "      <th>wifi_connectivity_rating</th>\n",
              "      <th>value_money_rating</th>\n",
              "      <th>recommended</th>\n",
              "    </tr>\n",
              "  </thead>\n",
              "  <tbody>\n",
              "    <tr>\n",
              "      <th>0</th>\n",
              "      <td>adria-airways</td>\n",
              "      <td>/airline-reviews/adria-airways</td>\n",
              "      <td>Adria Airways customer review</td>\n",
              "      <td>D Ito</td>\n",
              "      <td>Germany</td>\n",
              "      <td>2015-04-10</td>\n",
              "      <td>Outbound flight FRA/PRN A319. 2 hours 10 min f...</td>\n",
              "      <td>NaN</td>\n",
              "      <td>NaN</td>\n",
              "      <td>Economy</td>\n",
              "      <td>NaN</td>\n",
              "      <td>7.0</td>\n",
              "      <td>4.0</td>\n",
              "      <td>4.0</td>\n",
              "      <td>4.0</td>\n",
              "      <td>0.0</td>\n",
              "      <td>NaN</td>\n",
              "      <td>NaN</td>\n",
              "      <td>4.0</td>\n",
              "      <td>1</td>\n",
              "    </tr>\n",
              "  </tbody>\n",
              "</table>\n",
              "</div>"
            ],
            "text/plain": [
              "    airline_name                            link  \\\n",
              "0  adria-airways  /airline-reviews/adria-airways   \n",
              "\n",
              "                           title author author_country        date  \\\n",
              "0  Adria Airways customer review  D Ito        Germany  2015-04-10   \n",
              "\n",
              "                                             content aircraft type_traveller  \\\n",
              "0  Outbound flight FRA/PRN A319. 2 hours 10 min f...      NaN            NaN   \n",
              "\n",
              "  cabin_flown route  overall_rating  seat_comfort_rating  cabin_staff_rating  \\\n",
              "0     Economy   NaN             7.0                  4.0                 4.0   \n",
              "\n",
              "   food_beverages_rating  inflight_entertainment_rating  \\\n",
              "0                    4.0                            0.0   \n",
              "\n",
              "   ground_service_rating  wifi_connectivity_rating  value_money_rating  \\\n",
              "0                    NaN                       NaN                 4.0   \n",
              "\n",
              "   recommended  \n",
              "0            1  "
            ]
          },
          "metadata": {
            "tags": []
          },
          "execution_count": 5
        }
      ]
    },
    {
      "metadata": {
        "id": "rWNXUTVaxFrJ",
        "colab_type": "text"
      },
      "cell_type": "markdown",
      "source": [
        "# **Analysing the DataSet**"
      ]
    },
    {
      "metadata": {
        "id": "7-4RDqs9n9PH",
        "colab_type": "code",
        "outputId": "723b7382-0137-4562-aaec-12c2f76c4e25",
        "colab": {
          "base_uri": "https://localhost:8080/",
          "height": 374
        }
      },
      "cell_type": "code",
      "source": [
        "round((airline_data.isna().sum())/len(airline_data),2)"
      ],
      "execution_count": 125,
      "outputs": [
        {
          "output_type": "execute_result",
          "data": {
            "text/plain": [
              "airline_name                     0.00\n",
              "link                             0.00\n",
              "title                            0.00\n",
              "author                           0.00\n",
              "author_country                   0.04\n",
              "date                             0.00\n",
              "content                          0.00\n",
              "aircraft                         0.97\n",
              "type_traveller                   0.94\n",
              "cabin_flown                      0.07\n",
              "route                            0.94\n",
              "overall_rating                   0.11\n",
              "seat_comfort_rating              0.19\n",
              "cabin_staff_rating               0.19\n",
              "food_beverages_rating            0.20\n",
              "inflight_entertainment_rating    0.25\n",
              "ground_service_rating            0.95\n",
              "wifi_connectivity_rating         0.99\n",
              "value_money_rating               0.04\n",
              "recommended                      0.00\n",
              "dtype: float64"
            ]
          },
          "metadata": {
            "tags": []
          },
          "execution_count": 125
        }
      ]
    },
    {
      "metadata": {
        "id": "d9JGI01HoLdn",
        "colab_type": "code",
        "colab": {}
      },
      "cell_type": "code",
      "source": [
        "airline_data=airline_data[airline_data['overall_rating'].notnull()]"
      ],
      "execution_count": 0,
      "outputs": []
    },
    {
      "metadata": {
        "id": "ccuVw6MNl-ux",
        "colab_type": "code",
        "outputId": "05758db9-17e0-4dc4-93ab-bd5ba4d05402",
        "colab": {
          "base_uri": "https://localhost:8080/",
          "height": 374
        }
      },
      "cell_type": "code",
      "source": [
        "round((airline_data.isna().sum())/len(airline_data),2)"
      ],
      "execution_count": 127,
      "outputs": [
        {
          "output_type": "execute_result",
          "data": {
            "text/plain": [
              "airline_name                     0.00\n",
              "link                             0.00\n",
              "title                            0.00\n",
              "author                           0.00\n",
              "author_country                   0.02\n",
              "date                             0.00\n",
              "content                          0.00\n",
              "aircraft                         0.97\n",
              "type_traveller                   0.94\n",
              "cabin_flown                      0.05\n",
              "route                            0.94\n",
              "overall_rating                   0.00\n",
              "seat_comfort_rating              0.17\n",
              "cabin_staff_rating               0.17\n",
              "food_beverages_rating            0.18\n",
              "inflight_entertainment_rating    0.23\n",
              "ground_service_rating            0.94\n",
              "wifi_connectivity_rating         0.98\n",
              "value_money_rating               0.03\n",
              "recommended                      0.00\n",
              "dtype: float64"
            ]
          },
          "metadata": {
            "tags": []
          },
          "execution_count": 127
        }
      ]
    },
    {
      "metadata": {
        "id": "IrmWpsrXn5aQ",
        "colab_type": "text"
      },
      "cell_type": "markdown",
      "source": [
        "# **Calcluating Total Reviews to Each airline**"
      ]
    },
    {
      "metadata": {
        "id": "tVZHjIYPmFEg",
        "colab_type": "code",
        "outputId": "3f0fe358-aa96-4eec-fd25-8da350b8e50c",
        "colab": {
          "base_uri": "https://localhost:8080/",
          "height": 51
        }
      },
      "cell_type": "code",
      "source": [
        "\n",
        "airline_names=airline_data.airline_name.unique()\n",
        "print('Total airlines Considered for Analysis : ',len(airline_names))\n",
        "total_reviews_each_airline=[]\n",
        "for i in airline_names:\n",
        "  temp=airline_data[airline_data.airline_name==i]\n",
        "  total_reviews_each_airline.append(len(temp))\n",
        "result=list(zip(airline_names,total_reviews_each_airline))\n",
        "print('Total Reviews Analysed : ',sum(total_reviews_each_airline))"
      ],
      "execution_count": 16,
      "outputs": [
        {
          "output_type": "stream",
          "text": [
            "Total airlines Considered for Analysis :  357\n",
            "Total Reviews Analysed :  36861\n"
          ],
          "name": "stdout"
        }
      ]
    },
    {
      "metadata": {
        "id": "cCDqd6w3n_mc",
        "colab_type": "code",
        "outputId": "1d5b27a8-04b0-4e3c-8b94-52ae26f49dc1",
        "colab": {
          "base_uri": "https://localhost:8080/",
          "height": 204
        }
      },
      "cell_type": "code",
      "source": [
        "df=pd.DataFrame(result,columns=['Airline_Name','Total_Reviews'])\n",
        "df=df.sort_values(by='Total_Reviews',ascending=False)\n",
        "df.head()"
      ],
      "execution_count": 17,
      "outputs": [
        {
          "output_type": "execute_result",
          "data": {
            "text/html": [
              "<div>\n",
              "<style scoped>\n",
              "    .dataframe tbody tr th:only-of-type {\n",
              "        vertical-align: middle;\n",
              "    }\n",
              "\n",
              "    .dataframe tbody tr th {\n",
              "        vertical-align: top;\n",
              "    }\n",
              "\n",
              "    .dataframe thead th {\n",
              "        text-align: right;\n",
              "    }\n",
              "</style>\n",
              "<table border=\"1\" class=\"dataframe\">\n",
              "  <thead>\n",
              "    <tr style=\"text-align: right;\">\n",
              "      <th></th>\n",
              "      <th>Airline_Name</th>\n",
              "      <th>Total_Reviews</th>\n",
              "    </tr>\n",
              "  </thead>\n",
              "  <tbody>\n",
              "    <tr>\n",
              "      <th>295</th>\n",
              "      <td>spirit-airlines</td>\n",
              "      <td>966</td>\n",
              "    </tr>\n",
              "    <tr>\n",
              "      <th>97</th>\n",
              "      <td>british-airways</td>\n",
              "      <td>896</td>\n",
              "    </tr>\n",
              "    <tr>\n",
              "      <th>333</th>\n",
              "      <td>united-airlines</td>\n",
              "      <td>839</td>\n",
              "    </tr>\n",
              "    <tr>\n",
              "      <th>20</th>\n",
              "      <td>air-canada-rouge</td>\n",
              "      <td>715</td>\n",
              "    </tr>\n",
              "    <tr>\n",
              "      <th>138</th>\n",
              "      <td>emirates</td>\n",
              "      <td>690</td>\n",
              "    </tr>\n",
              "  </tbody>\n",
              "</table>\n",
              "</div>"
            ],
            "text/plain": [
              "         Airline_Name  Total_Reviews\n",
              "295   spirit-airlines            966\n",
              "97    british-airways            896\n",
              "333   united-airlines            839\n",
              "20   air-canada-rouge            715\n",
              "138          emirates            690"
            ]
          },
          "metadata": {
            "tags": []
          },
          "execution_count": 17
        }
      ]
    },
    {
      "metadata": {
        "id": "PR4Pxod7QIwk",
        "colab_type": "code",
        "colab": {}
      },
      "cell_type": "code",
      "source": [
        ""
      ],
      "execution_count": 0,
      "outputs": []
    },
    {
      "metadata": {
        "id": "486Z7T_QpMTi",
        "colab_type": "code",
        "outputId": "88acd6ff-ff95-4041-d6db-2e2afd2af7a8",
        "colab": {
          "base_uri": "https://localhost:8080/",
          "height": 378
        }
      },
      "cell_type": "code",
      "source": [
        "plt.style.use('seaborn')\n",
        "plt.xlabel('Airlines')\n",
        "plt.ylabel('Reviews')\n",
        "plt.bar(df.Airline_Name[:5],df.Total_Reviews[:5],label='Top 5 Airlines')\n",
        "plt.legend()\n"
      ],
      "execution_count": 180,
      "outputs": [
        {
          "output_type": "execute_result",
          "data": {
            "text/plain": [
              "<matplotlib.legend.Legend at 0x7fa98c0fe940>"
            ]
          },
          "metadata": {
            "tags": []
          },
          "execution_count": 180
        },
        {
          "output_type": "display_data",
          "data": {
            "image/png": "[encoded data removed]",
            "text/plain": [
              "<Figure size 576x396 with 1 Axes>"
            ]
          },
          "metadata": {
            "tags": []
          }
        }
      ]
    },
    {
      "metadata": {
        "id": "NyT2jwkUrHIN",
        "colab_type": "text"
      },
      "cell_type": "markdown",
      "source": [
        "# **Finding Polarity of Each Review**"
      ]
    },
    {
      "metadata": {
        "id": "GPn-vQVOrGU6",
        "colab_type": "code",
        "colab": {}
      },
      "cell_type": "code",
      "source": [
        "from textblob import TextBlob"
      ],
      "execution_count": 0,
      "outputs": []
    },
    {
      "metadata": {
        "id": "T6s6fwPZnxIn",
        "colab_type": "code",
        "colab": {}
      },
      "cell_type": "code",
      "source": [
        "result1=[]\n",
        "num=1\n",
        "numlist=[]\n",
        "for review in airline_data.content:\n",
        "    analysis=TextBlob(review)\n",
        "    result1.append(analysis.polarity)\n",
        "    numlist.append(num)\n",
        "    num=num+1\n",
        "result1=np.array(result1)\n"
      ],
      "execution_count": 0,
      "outputs": []
    },
    {
      "metadata": {
        "id": "uMzY1z-crnVX",
        "colab_type": "text"
      },
      "cell_type": "markdown",
      "source": [
        "### **Plotting Polarity**"
      ]
    },
    {
      "metadata": {
        "id": "XgL31hv7rrFC",
        "colab_type": "code",
        "outputId": "5c305d0b-fae6-41f8-a205-b5e52966430e",
        "colab": {
          "base_uri": "https://localhost:8080/",
          "height": 378
        }
      },
      "cell_type": "code",
      "source": [
        "plt.style.use('seaborn')\n",
        "plt.scatter(numlist,result1,label='Polarity')\n",
        "plt.xlabel('Reviews')\n",
        "plt.ylabel('Polarity')\n",
        "plt.legend()"
      ],
      "execution_count": 181,
      "outputs": [
        {
          "output_type": "execute_result",
          "data": {
            "text/plain": [
              "<matplotlib.legend.Legend at 0x7fa98bd40c50>"
            ]
          },
          "metadata": {
            "tags": []
          },
          "execution_count": 181
        },
        {
          "output_type": "display_data",
          "data": {
            "image/png": "[encoded data removed]",
            "text/plain": [
              "<Figure size 576x396 with 1 Axes>"
            ]
          },
          "metadata": {
            "tags": []
          }
        }
      ]
    },
    {
      "metadata": {
        "id": "paXcx0dPrxpQ",
        "colab_type": "text"
      },
      "cell_type": "markdown",
      "source": [
        "# **Providing Sentiment Value to Each Review According to Rating**"
      ]
    },
    {
      "metadata": {
        "id": "XiUQPa3AoVlj",
        "colab_type": "code",
        "colab": {}
      },
      "cell_type": "code",
      "source": [
        "sentiment=[]\n",
        "for i in airline_data.overall_rating:\n",
        "  if(i<=5 and i>=0):\n",
        "    sentiment.append(0)\n",
        "  else:\n",
        "    sentiment.append(1)"
      ],
      "execution_count": 0,
      "outputs": []
    },
    {
      "metadata": {
        "id": "oY8KTbVoYfAP",
        "colab_type": "code",
        "colab": {}
      },
      "cell_type": "code",
      "source": [
        "new_airline_data=airline_data.copy()"
      ],
      "execution_count": 0,
      "outputs": []
    },
    {
      "metadata": {
        "id": "uPvrZYXtYtXZ",
        "colab_type": "code",
        "colab": {}
      },
      "cell_type": "code",
      "source": [
        "new_airline_data['sentiment']=sentiment"
      ],
      "execution_count": 0,
      "outputs": []
    },
    {
      "metadata": {
        "id": "jhVnemSSZFgJ",
        "colab_type": "code",
        "colab": {}
      },
      "cell_type": "code",
      "source": [
        "### Shuffline the Dataset for Training ###\n",
        "\n",
        "from sklearn.utils import shuffle\n",
        "new_airline_data=shuffle(new_airline_data)"
      ],
      "execution_count": 0,
      "outputs": []
    },
    {
      "metadata": {
        "id": "sW_OEGPxoyQA",
        "colab_type": "text"
      },
      "cell_type": "markdown",
      "source": [
        "# **Logisitc Regression**"
      ]
    },
    {
      "metadata": {
        "id": "Emyr7gWIo2XM",
        "colab_type": "code",
        "colab": {}
      },
      "cell_type": "code",
      "source": [
        "from sklearn.linear_model import LogisticRegression\n",
        "from sklearn.feature_extraction.text import CountVectorizer"
      ],
      "execution_count": 0,
      "outputs": []
    },
    {
      "metadata": {
        "id": "JlrhTdHjo9Nw",
        "colab_type": "code",
        "colab": {}
      },
      "cell_type": "code",
      "source": [
        "model=LogisticRegression()\n",
        "vectorizer=CountVectorizer(ngram_range=(1,2))\n",
        "x_l=vectorizer.fit_transform(new_airline_data.content.values)"
      ],
      "execution_count": 0,
      "outputs": []
    },
    {
      "metadata": {
        "id": "CdpFCgWgpAJl",
        "colab_type": "code",
        "outputId": "25797115-68fd-4b36-e003-ecf5eceb76c5",
        "colab": {
          "base_uri": "https://localhost:8080/",
          "height": 139
        }
      },
      "cell_type": "code",
      "source": [
        "model.fit(x_l[:29488],new_airline_data.sentiment[:29488].values)"
      ],
      "execution_count": 152,
      "outputs": [
        {
          "output_type": "stream",
          "text": [
            "/usr/local/lib/python3.6/dist-packages/sklearn/linear_model/logistic.py:433: FutureWarning: Default solver will be changed to 'lbfgs' in 0.22. Specify a solver to silence this warning.\n",
            "  FutureWarning)\n"
          ],
          "name": "stderr"
        },
        {
          "output_type": "execute_result",
          "data": {
            "text/plain": [
              "LogisticRegression(C=1.0, class_weight=None, dual=False, fit_intercept=True,\n",
              "          intercept_scaling=1, max_iter=100, multi_class='warn',\n",
              "          n_jobs=None, penalty='l2', random_state=None, solver='warn',\n",
              "          tol=0.0001, verbose=0, warm_start=False)"
            ]
          },
          "metadata": {
            "tags": []
          },
          "execution_count": 152
        }
      ]
    },
    {
      "metadata": {
        "id": "DQpRwrSVpUhv",
        "colab_type": "code",
        "outputId": "33fae82b-f810-401c-8109-0d3e102d151f",
        "colab": {
          "base_uri": "https://localhost:8080/",
          "height": 34
        }
      },
      "cell_type": "code",
      "source": [
        "model.score(x_l[29488:],new_airline_data.sentiment[29488:].values)"
      ],
      "execution_count": 153,
      "outputs": [
        {
          "output_type": "execute_result",
          "data": {
            "text/plain": [
              "0.8794249287942493"
            ]
          },
          "metadata": {
            "tags": []
          },
          "execution_count": 153
        }
      ]
    },
    {
      "metadata": {
        "id": "kC4MkAs5IaeV",
        "colab_type": "code",
        "colab": {}
      },
      "cell_type": "code",
      "source": [
        "y_predict=model.predict(x_l[29488:])"
      ],
      "execution_count": 0,
      "outputs": []
    },
    {
      "metadata": {
        "id": "19y3NJYpIi_n",
        "colab_type": "code",
        "colab": {}
      },
      "cell_type": "code",
      "source": [
        "x_axis=[]\n",
        "n=1\n",
        "for i in range(0,len(new_airline_data[29488:].values)):\n",
        "  x_axis.append(n)\n",
        "  n=n+1"
      ],
      "execution_count": 0,
      "outputs": []
    },
    {
      "metadata": {
        "id": "avVw5fWLJpKd",
        "colab_type": "code",
        "colab": {}
      },
      "cell_type": "code",
      "source": [
        ""
      ],
      "execution_count": 0,
      "outputs": []
    },
    {
      "metadata": {
        "id": "BcGq1xQKJign",
        "colab_type": "code",
        "outputId": "7f8b60aa-d7c6-41f7-ee2f-4e0b7b896e1c",
        "colab": {
          "base_uri": "https://localhost:8080/",
          "height": 364
        }
      },
      "cell_type": "code",
      "source": [
        "plt.scatter(x_axis,new_ariline_data.sentiment[29488:],color='red',label='predicted')\n",
        "plt.scatter(x_axis,y_predict,label='actual')\n",
        "plt.legend()\n"
      ],
      "execution_count": 182,
      "outputs": [
        {
          "output_type": "execute_result",
          "data": {
            "text/plain": [
              "<matplotlib.legend.Legend at 0x7fa98e4135c0>"
            ]
          },
          "metadata": {
            "tags": []
          },
          "execution_count": 182
        },
        {
          "output_type": "display_data",
          "data": {
            "image/png": "[encoded data removed]",
            "text/plain": [
              "<Figure size 576x396 with 1 Axes>"
            ]
          },
          "metadata": {
            "tags": []
          }
        }
      ]
    },
    {
      "metadata": {
        "id": "50jXWs7HHsCq",
        "colab_type": "text"
      },
      "cell_type": "markdown",
      "source": [
        "# **Linear Support Vector Machine**"
      ]
    },
    {
      "metadata": {
        "id": "_V029Ywolo0C",
        "colab_type": "code",
        "colab": {}
      },
      "cell_type": "code",
      "source": [
        "from sklearn.svm import LinearSVC"
      ],
      "execution_count": 0,
      "outputs": []
    },
    {
      "metadata": {
        "id": "-XSb4DqKH501",
        "colab_type": "code",
        "colab": {}
      },
      "cell_type": "code",
      "source": [
        "clf = LinearSVC(random_state=42, tol=1e-5)"
      ],
      "execution_count": 0,
      "outputs": []
    },
    {
      "metadata": {
        "id": "OgeaaG4KH---",
        "colab_type": "code",
        "outputId": "1d9abd0a-f904-40dd-e32b-ac8918a34e37",
        "colab": {
          "base_uri": "https://localhost:8080/",
          "height": 119
        }
      },
      "cell_type": "code",
      "source": [
        "clf.fit(x_l[:29488],new_airline_data.sentiment[:29488])"
      ],
      "execution_count": 165,
      "outputs": [
        {
          "output_type": "stream",
          "text": [
            "/usr/local/lib/python3.6/dist-packages/sklearn/svm/base.py:931: ConvergenceWarning: Liblinear failed to converge, increase the number of iterations.\n",
            "  \"the number of iterations.\", ConvergenceWarning)\n"
          ],
          "name": "stderr"
        },
        {
          "output_type": "execute_result",
          "data": {
            "text/plain": [
              "LinearSVC(C=1.0, class_weight=None, dual=True, fit_intercept=True,\n",
              "     intercept_scaling=1, loss='squared_hinge', max_iter=1000,\n",
              "     multi_class='ovr', penalty='l2', random_state=42, tol=1e-05,\n",
              "     verbose=0)"
            ]
          },
          "metadata": {
            "tags": []
          },
          "execution_count": 165
        }
      ]
    },
    {
      "metadata": {
        "id": "U-ITN9ksIP4l",
        "colab_type": "code",
        "outputId": "0a967ca7-038b-49b1-e0a0-d74d0fefa405",
        "colab": {
          "base_uri": "https://localhost:8080/",
          "height": 34
        }
      },
      "cell_type": "code",
      "source": [
        "clf.score(x_l[29488:],new_airline_data.sentiment[29488:])"
      ],
      "execution_count": 166,
      "outputs": [
        {
          "output_type": "execute_result",
          "data": {
            "text/plain": [
              "0.8704733487047335"
            ]
          },
          "metadata": {
            "tags": []
          },
          "execution_count": 166
        }
      ]
    },
    {
      "metadata": {
        "id": "bc4xhR5yK2d5",
        "colab_type": "code",
        "outputId": "7bc90f2c-30fe-43be-b0eb-f571c10b9445",
        "colab": {
          "base_uri": "https://localhost:8080/",
          "height": 364
        }
      },
      "cell_type": "code",
      "source": [
        "plt.scatter(x_axis,new_airline_data.sentiment[29488:],color='red',label='predicted')\n",
        "plt.scatter(x_axis,y_predict,label='actual')\n",
        "plt.legend()\n"
      ],
      "execution_count": 183,
      "outputs": [
        {
          "output_type": "execute_result",
          "data": {
            "text/plain": [
              "<matplotlib.legend.Legend at 0x7fa98e413438>"
            ]
          },
          "metadata": {
            "tags": []
          },
          "execution_count": 183
        },
        {
          "output_type": "display_data",
          "data": {
            "image/png": "[encoded data removed]",
            "text/plain": [
              "<Figure size 576x396 with 1 Axes>"
            ]
          },
          "metadata": {
            "tags": []
          }
        }
      ]
    },
    {
      "metadata": {
        "id": "4mfLbnlgQkIg",
        "colab_type": "text"
      },
      "cell_type": "markdown",
      "source": [
        "# **Preprocessing the Reviews **"
      ]
    },
    {
      "metadata": {
        "id": "4jgaB84lQpGw",
        "colab_type": "code",
        "colab": {}
      },
      "cell_type": "code",
      "source": [
        "t=new_airline_data.copy()"
      ],
      "execution_count": 0,
      "outputs": []
    },
    {
      "metadata": {
        "id": "dLsB_JVIRoQ8",
        "colab_type": "code",
        "colab": {}
      },
      "cell_type": "code",
      "source": [
        "pos_sentiment=[]\n",
        "neg_sentiment=[]\n",
        "avg_rating=[]\n",
        "for i in airline_names:\n",
        "  tempdf=t[t['airline_name']==i]\n",
        "  pos=len(tempdf[tempdf['sentiment']==1])\n",
        "  neg=len(tempdf)-pos\n",
        "  pos_sentiment.append(pos)\n",
        "  neg_sentiment.append(neg)\n",
        "  avg_rate=tempdf.overall_rating.mean()\n",
        "  avg_rating.append(avg_rate)\n",
        "clustered_data=pd.DataFrame(list(zip(airline_names,avg_rating,pos_sentiment,neg_sentiment)),columns=['airline_name','average_rating','pos_sentiment','neg_sentiment'])"
      ],
      "execution_count": 0,
      "outputs": []
    },
    {
      "metadata": {
        "id": "0FXCr0X2UqBp",
        "colab_type": "code",
        "colab": {}
      },
      "cell_type": "code",
      "source": [
        "clustered_data=clustered_data.sort_values(by=['pos_sentiment','average_rating'],kind='mergesort',ascending=False)"
      ],
      "execution_count": 0,
      "outputs": []
    },
    {
      "metadata": {
        "id": "4x-bZA1cWBD0",
        "colab_type": "code",
        "colab": {
          "base_uri": "https://localhost:8080/",
          "height": 204
        },
        "outputId": "05601beb-0a19-4b1c-d51a-13cbdfea2721"
      },
      "cell_type": "code",
      "source": [
        "clustered_data.head()"
      ],
      "execution_count": 171,
      "outputs": [
        {
          "output_type": "execute_result",
          "data": {
            "text/html": [
              "<div>\n",
              "<style scoped>\n",
              "    .dataframe tbody tr th:only-of-type {\n",
              "        vertical-align: middle;\n",
              "    }\n",
              "\n",
              "    .dataframe tbody tr th {\n",
              "        vertical-align: top;\n",
              "    }\n",
              "\n",
              "    .dataframe thead th {\n",
              "        text-align: right;\n",
              "    }\n",
              "</style>\n",
              "<table border=\"1\" class=\"dataframe\">\n",
              "  <thead>\n",
              "    <tr style=\"text-align: right;\">\n",
              "      <th></th>\n",
              "      <th>airline_name</th>\n",
              "      <th>average_rating</th>\n",
              "      <th>pos_sentiment</th>\n",
              "      <th>neg_sentiment</th>\n",
              "    </tr>\n",
              "  </thead>\n",
              "  <tbody>\n",
              "    <tr>\n",
              "      <th>97</th>\n",
              "      <td>british-airways</td>\n",
              "      <td>5.881696</td>\n",
              "      <td>511</td>\n",
              "      <td>385</td>\n",
              "    </tr>\n",
              "    <tr>\n",
              "      <th>215</th>\n",
              "      <td>lufthansa</td>\n",
              "      <td>6.993333</td>\n",
              "      <td>457</td>\n",
              "      <td>143</td>\n",
              "    </tr>\n",
              "    <tr>\n",
              "      <th>255</th>\n",
              "      <td>qantas-airways</td>\n",
              "      <td>7.005172</td>\n",
              "      <td>421</td>\n",
              "      <td>159</td>\n",
              "    </tr>\n",
              "    <tr>\n",
              "      <th>138</th>\n",
              "      <td>emirates</td>\n",
              "      <td>6.246377</td>\n",
              "      <td>418</td>\n",
              "      <td>272</td>\n",
              "    </tr>\n",
              "    <tr>\n",
              "      <th>257</th>\n",
              "      <td>qatar-airways</td>\n",
              "      <td>7.319106</td>\n",
              "      <td>377</td>\n",
              "      <td>115</td>\n",
              "    </tr>\n",
              "  </tbody>\n",
              "</table>\n",
              "</div>"
            ],
            "text/plain": [
              "        airline_name  average_rating  pos_sentiment  neg_sentiment\n",
              "97   british-airways        5.881696            511            385\n",
              "215        lufthansa        6.993333            457            143\n",
              "255   qantas-airways        7.005172            421            159\n",
              "138         emirates        6.246377            418            272\n",
              "257    qatar-airways        7.319106            377            115"
            ]
          },
          "metadata": {
            "tags": []
          },
          "execution_count": 171
        }
      ]
    },
    {
      "metadata": {
        "id": "5VCmW4hZWIeU",
        "colab_type": "code",
        "colab": {
          "base_uri": "https://localhost:8080/",
          "height": 364
        },
        "outputId": "d5446520-2d93-44f7-acfe-02f0ba39dd23"
      },
      "cell_type": "code",
      "source": [
        "plt.bar(clustered_data.airline_name.head(5).values,clustered_data.pos_sentiment.head(5).values,label='Positive Sentiment')\n",
        "plt.bar(clustered_data.airline_name.head(5).values,clustered_data.neg_sentiment.head(5).values,label='Negative Sentiment',color='red')\n",
        "plt.legend()"
      ],
      "execution_count": 179,
      "outputs": [
        {
          "output_type": "execute_result",
          "data": {
            "text/plain": [
              "<matplotlib.legend.Legend at 0x7fa98c0fe160>"
            ]
          },
          "metadata": {
            "tags": []
          },
          "execution_count": 179
        },
        {
          "output_type": "display_data",
          "data": {
            "image/png": "[encoded data removed]",
            "text/plain": [
              "<Figure size 576x396 with 1 Axes>"
            ]
          },
          "metadata": {
            "tags": []
          }
        }
      ]
    },
    {
      "metadata": {
        "id": "lzpCq6CJijfS",
        "colab_type": "code",
        "colab": {}
      },
      "cell_type": "code",
      "source": [
        ""
      ],
      "execution_count": 0,
      "outputs": []
    },
    {
      "metadata": {
        "id": "v2CkQIFPikXH",
        "colab_type": "text"
      },
      "cell_type": "markdown",
      "source": [
        "# **Preprocessing Reviews and Removing Stop Words**\n"
      ]
    },
    {
      "metadata": {
        "id": "m8vN2Oz3jdv8",
        "colab_type": "code",
        "colab": {}
      },
      "cell_type": "code",
      "source": [
        "import nltk\n",
        "from nltk.corpus import stopwords\n",
        "from nltk.tokenize import sent_tokenize\n",
        "from nltk.stem import WordNetLemmatizer\n",
        "import string\n",
        "from nltk.tokenize import word_tokenize"
      ],
      "execution_count": 0,
      "outputs": []
    },
    {
      "metadata": {
        "id": "9BaY0ZrMjiIN",
        "colab_type": "code",
        "colab": {}
      },
      "cell_type": "code",
      "source": [
        "stop = set(stopwords.words(\"english\"))"
      ],
      "execution_count": 0,
      "outputs": []
    },
    {
      "metadata": {
        "id": "vQSDMxa1irCB",
        "colab_type": "code",
        "colab": {}
      },
      "cell_type": "code",
      "source": [
        "def preprocessing(text):\n",
        "  le = WordNetLemmatizer()\n",
        "  words = word_tokenize(text)\n",
        "  words = [x for x in words if not x in stop]\n",
        "  words = [le.lemmatize(x) for x in words]\n",
        "  return \" \".join(words)"
      ],
      "execution_count": 0,
      "outputs": []
    },
    {
      "metadata": {
        "id": "hbZZSe0Bj-js",
        "colab_type": "code",
        "colab": {}
      },
      "cell_type": "code",
      "source": [
        "reviews2 = [preprocessing(x) for x in new_airline_data.content]"
      ],
      "execution_count": 0,
      "outputs": []
    },
    {
      "metadata": {
        "id": "KoeCiIPkkc2X",
        "colab_type": "code",
        "colab": {}
      },
      "cell_type": "code",
      "source": [
        "new_airline_data['reviews_processed']=reviews2"
      ],
      "execution_count": 0,
      "outputs": []
    },
    {
      "metadata": {
        "id": "NNQGD-IZlKfw",
        "colab_type": "code",
        "colab": {}
      },
      "cell_type": "code",
      "source": [
        ""
      ],
      "execution_count": 0,
      "outputs": []
    },
    {
      "metadata": {
        "id": "exZACuNzkoNY",
        "colab_type": "text"
      },
      "cell_type": "markdown",
      "source": [
        "### **Logisitic Regression on Processed Data**"
      ]
    },
    {
      "metadata": {
        "id": "0hO76ighktak",
        "colab_type": "code",
        "colab": {}
      },
      "cell_type": "code",
      "source": [
        "logic_model=LogisticRegression()\n",
        "vectorizer_p=CountVectorizer(ngram_range=(1,2))\n",
        "x_l_1=vectorizer_p.fit_transform(new_airline_data.reviews_processed.values)"
      ],
      "execution_count": 0,
      "outputs": []
    },
    {
      "metadata": {
        "id": "QiG_o3SBo1Ls",
        "colab_type": "code",
        "colab": {
          "base_uri": "https://localhost:8080/",
          "height": 139
        },
        "outputId": "6da48fe2-8221-42f1-c2a7-6756371fc9d4"
      },
      "cell_type": "code",
      "source": [
        "logic_model.fit(x_l_1[:29488],new_airline_data.sentiment[:29488].values)"
      ],
      "execution_count": 221,
      "outputs": [
        {
          "output_type": "stream",
          "text": [
            "/usr/local/lib/python3.6/dist-packages/sklearn/linear_model/logistic.py:433: FutureWarning: Default solver will be changed to 'lbfgs' in 0.22. Specify a solver to silence this warning.\n",
            "  FutureWarning)\n"
          ],
          "name": "stderr"
        },
        {
          "output_type": "execute_result",
          "data": {
            "text/plain": [
              "LogisticRegression(C=1.0, class_weight=None, dual=False, fit_intercept=True,\n",
              "          intercept_scaling=1, max_iter=100, multi_class='warn',\n",
              "          n_jobs=None, penalty='l2', random_state=None, solver='warn',\n",
              "          tol=0.0001, verbose=0, warm_start=False)"
            ]
          },
          "metadata": {
            "tags": []
          },
          "execution_count": 221
        }
      ]
    },
    {
      "metadata": {
        "id": "9HfqtPhgo-VW",
        "colab_type": "code",
        "colab": {
          "base_uri": "https://localhost:8080/",
          "height": 34
        },
        "outputId": "ac721230-0bff-475b-af4a-888e94b4cf14"
      },
      "cell_type": "code",
      "source": [
        "logic_model.score(x_l_1[29488:],new_airline_data.sentiment[29488:].values)"
      ],
      "execution_count": 222,
      "outputs": [
        {
          "output_type": "execute_result",
          "data": {
            "text/plain": [
              "0.8763054387630543"
            ]
          },
          "metadata": {
            "tags": []
          },
          "execution_count": 222
        }
      ]
    },
    {
      "metadata": {
        "id": "-3oq7TAFpHY1",
        "colab_type": "text"
      },
      "cell_type": "markdown",
      "source": [
        "### **Implementing Linear SVM**"
      ]
    },
    {
      "metadata": {
        "id": "qyoMfJBepLrb",
        "colab_type": "code",
        "colab": {}
      },
      "cell_type": "code",
      "source": [
        "clf1 = LinearSVC(random_state=42, tol=1e-5)"
      ],
      "execution_count": 0,
      "outputs": []
    },
    {
      "metadata": {
        "id": "ekVMoqewpV3M",
        "colab_type": "code",
        "colab": {
          "base_uri": "https://localhost:8080/",
          "height": 119
        },
        "outputId": "715ecf05-6512-4711-b2ce-599472a235d2"
      },
      "cell_type": "code",
      "source": [
        "clf1.fit(x_l_1[:29488],new_airline_data.sentiment[:29488])"
      ],
      "execution_count": 224,
      "outputs": [
        {
          "output_type": "stream",
          "text": [
            "/usr/local/lib/python3.6/dist-packages/sklearn/svm/base.py:931: ConvergenceWarning: Liblinear failed to converge, increase the number of iterations.\n",
            "  \"the number of iterations.\", ConvergenceWarning)\n"
          ],
          "name": "stderr"
        },
        {
          "output_type": "execute_result",
          "data": {
            "text/plain": [
              "LinearSVC(C=1.0, class_weight=None, dual=True, fit_intercept=True,\n",
              "     intercept_scaling=1, loss='squared_hinge', max_iter=1000,\n",
              "     multi_class='ovr', penalty='l2', random_state=42, tol=1e-05,\n",
              "     verbose=0)"
            ]
          },
          "metadata": {
            "tags": []
          },
          "execution_count": 224
        }
      ]
    },
    {
      "metadata": {
        "id": "r6sEwRNUpYTb",
        "colab_type": "code",
        "colab": {
          "base_uri": "https://localhost:8080/",
          "height": 34
        },
        "outputId": "13207c3a-edeb-4791-f702-a9f61435cb1d"
      },
      "cell_type": "code",
      "source": [
        "clf1.score(x_l_1[29488:],new_airline_data.sentiment[29488:])"
      ],
      "execution_count": 225,
      "outputs": [
        {
          "output_type": "execute_result",
          "data": {
            "text/plain": [
              "0.8700664587006646"
            ]
          },
          "metadata": {
            "tags": []
          },
          "execution_count": 225
        }
      ]
    }
  ]
}